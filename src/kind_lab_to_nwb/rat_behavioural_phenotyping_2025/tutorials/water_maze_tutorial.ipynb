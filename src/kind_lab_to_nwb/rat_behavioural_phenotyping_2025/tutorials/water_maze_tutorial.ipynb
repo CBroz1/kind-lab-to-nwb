{
 "cells": [
  {
   "cell_type": "markdown",
   "id": "fe3bffd661f189e6",
   "metadata": {},
   "source": [
    "# Water Maze NWB Tutorial\n",
    "\n",
    "This tutorial demonstrates how to load and explore an NWB file containing behavioral data from the Morris water maze experiment, part of the [Rat Behavioural Phenotyping Pipeline Methodologies](https://sidb.org.uk/facilities/rat-behavioural-phenotyping-pipeline/).\n",
    "\n",
    "**Contents:**\n",
    "- [Reading NWBFile locally](#read-nwb)\n",
    "- [Access Subject Metadata](#access-subject)\n",
    "- [Access Devices Metadata](#access-devices)\n",
    "- [Access Behavioral Videos](#access-behavior)\n",
    "- [Access Trials](#access-trials)\n"
   ]
  },
  {
   "cell_type": "markdown",
   "id": "c458e0d7415e7459",
   "metadata": {},
   "source": [
    "# Reading an NWB file locally <a id=\"read-nwb\"></a>\n",
    "\n",
    "This section demonstrates how to read an NWB file using `pynwb`.\n",
    "\n",
    "Based on the [NWB File Basics](https://pynwb.readthedocs.io/en/stable/tutorials/general/plot_file.html#sphx-glr-tutorials-general-plot-file-py) tutorial from [PyNWB](https://pynwb.readthedocs.io/en/stable/#).\n",
    "\n",
    "An [NWBFile](https://pynwb.readthedocs.io/en/stable/pynwb.file.html#pynwb.file.NWBFile) represents a single session of an experiment. Each NWBFile must have a `session description`, `identifier`, and `session start time`.\n",
    "\n",
    "Reading is carried out using the [NWBHDF5IO](https://pynwb.readthedocs.io/en/stable/pynwb.html#pynwb.NWBHDF5IO) class. To read the NWB file use the read mode (\"r\") to retrieve an NWBFile object."
   ]
  },
  {
   "cell_type": "code",
   "execution_count": 1,
   "id": "f9527538eac19607",
   "metadata": {},
   "outputs": [],
   "source": [
    "from pynwb import NWBHDF5IO\n",
    "from pathlib import Path\n",
    "\n",
    "# Define the path to the NWB file\n",
    "directory = Path(\"D:/kind_lab_conversion_nwb/water_maze\")\n",
    "session_id = \"WM_2_Reference_Day1\"\n",
    "subject_id = \"302_Arid1b(2)\"\n",
    "nwbfile_path = directory / f\"sub-{subject_id}_ses-{session_id}.nwb\"\n",
    "io = NWBHDF5IO(path=nwbfile_path, load_namespaces=True)\n",
    "nwbfile = io.read()"
   ]
  },
  {
   "cell_type": "code",
   "execution_count": 2,
   "id": "d8438152513b9e8a",
   "metadata": {},
   "outputs": [
    {
     "name": "stdout",
     "output_type": "stream",
     "text": [
      "This experiment is part of the Rat Behavioural Phenotyping Pipeline Methodologies https://sidb.org.uk/facilities/rat-behavioural-phenotyping-pipeline/.\n",
      "As an initial effort to characterize the rat lines, these models are being behaviorally phenotyped at SIDB.\n",
      "Rat models are phenotyped according to a rigorous pipeline that assesses behaviours relevant to autism with intellectual disability, such as social and motor skills, and learning and sensory processing.\n",
      "Different cohorts of rats are run through different subsets of tasks to overcome potential order effects on behaviours and to limit the number of tasks each animal is put through.\n",
      "This experiment investigated spatial learning and memory in different rat models\n",
      "(Arid1b: https://rgd.mcw.edu/rgdweb/report/strain/main.html?id=14394518,\n",
      "Grin2b: https://rgd.mcw.edu/rgdweb/report/strain/main.html?id=14394515,\n",
      "Scn2a: https://rgd.mcw.edu/rgdweb/report/strain/main.html?id=25394530) using the Morris Water Maze.\n",
      "The experimenter was blind to genotype and observed the swim trials from behind a partitioning wall.\n",
      "The task utilized a circular pool (2m diameter) with extra-maze spatial cues and an Atlantis platform.\n",
      "A white curtain could be pulled entirely around the pool to hide the extra maze cues.\n",
      "The pool water was made cloudy using approximately 200 ml of liquid latex and maintained at 28-29°C.\n",
      "The protocol included visible platform trials, spatial memory assessment, and reversal learning.\n",
      "Rats were tested on visible platform trials (4 swims/day), long-term spatial memory (4 days, 4 swims/day),\n",
      "and reversal learning with the platform in the opposite quadrant.\n",
      "Performance was recorded via overhead camera and analyzed using WaterMaze software for parameters\n",
      "including path length, trial duration, swim speed, dwell time, and thigmotaxis.\n",
      "\n"
     ]
    }
   ],
   "source": [
    "print(nwbfile.experiment_description)"
   ]
  },
  {
   "cell_type": "code",
   "execution_count": 3,
   "id": "a8c0456c84ccda91",
   "metadata": {},
   "outputs": [
    {
     "name": "stdout",
     "output_type": "stream",
     "text": [
      "Long-term spatial memory assessment.\n",
      "In long term spatial memory testing the platform remained in the same location over days and was 1-2 cm below water level.\n",
      "Spatial cues were available.\n",
      "In the first swim of each day the platform only became available after 1 min.\n",
      "\n"
     ]
    }
   ],
   "source": [
    "print(nwbfile.session_description)"
   ]
  },
  {
   "cell_type": "markdown",
   "id": "8d33d348-ba1c-4b6c-b04f-a0e0372c4fe0",
   "metadata": {},
   "source": [
    "Importantly, the `session start time` is the reference time for all timestamps in the file. For instance, an event with a timestamp of 0 in the file means the event occurred exactly at the session start time.\n",
    "\n",
    "The `session_start_time` is extracted from the CSV table (e.g. \"Reference_analysis.csv\") that contains a \"Date\" and \"Time\" column."
   ]
  },
  {
   "cell_type": "code",
   "execution_count": 4,
   "id": "ac76152ce7c2c93c",
   "metadata": {},
   "outputs": [
    {
     "name": "stdout",
     "output_type": "stream",
     "text": [
      "2022-09-16 10:18:00+01:00\n"
     ]
    }
   ],
   "source": [
    "print(nwbfile.session_start_time)"
   ]
  },
  {
   "cell_type": "markdown",
   "id": "67052048",
   "metadata": {},
   "source": [
    "# Access Subject Metadata <a name=\"access-subject\"></a>\n",
    "\n",
    "This section demonstrates how to access the [Subject](https://pynwb.readthedocs.io/en/stable/pynwb.file.html#pynwb.file.Subject) field in an NWB file.\n",
    "\n",
    "The [Subject](https://pynwb.readthedocs.io/en/stable/pynwb.file.html#pynwb.file.Subject) field can be accessed as `nwbfile.subject`.\n"
   ]
  },
  {
   "cell_type": "code",
   "execution_count": 5,
   "id": "initial_id",
   "metadata": {},
   "outputs": [
    {
     "data": {
      "text/html": [
       "\n",
       "        <style>\n",
       "            .container-fields {\n",
       "                font-family: \"Open Sans\", Arial, sans-serif;\n",
       "            }\n",
       "            .container-fields .field-value {\n",
       "                color: #00788E;\n",
       "            }\n",
       "            .container-fields details > summary {\n",
       "                cursor: pointer;\n",
       "                display: list-item;\n",
       "            }\n",
       "            .container-fields details > summary:hover {\n",
       "                color: #0A6EAA;\n",
       "            }\n",
       "        </style>\n",
       "        \n",
       "        <script>\n",
       "            function copyToClipboard(text) {\n",
       "                navigator.clipboard.writeText(text).then(function() {\n",
       "                    console.log('Copied to clipboard: ' + text);\n",
       "                }, function(err) {\n",
       "                    console.error('Could not copy text: ', err);\n",
       "                });\n",
       "            }\n",
       "\n",
       "            document.addEventListener('DOMContentLoaded', function() {\n",
       "                let fieldKeys = document.querySelectorAll('.container-fields .field-key');\n",
       "                fieldKeys.forEach(function(fieldKey) {\n",
       "                    fieldKey.addEventListener('click', function() {\n",
       "                        let accessCode = fieldKey.getAttribute('title').replace('Access code: ', '');\n",
       "                        copyToClipboard(accessCode);\n",
       "                    });\n",
       "                });\n",
       "            });\n",
       "        </script>\n",
       "        <div class='container-wrap'><div class='container-header'><div class='xr-obj-type'><h3>subject (Subject)</h3></div></div><div style=\"margin-left: 0px;\" class=\"container-fields\"><span class=\"field-key\" title=\".age__reference\">age__reference: </span><span class=\"field-value\">birth</span></div><div style=\"margin-left: 0px;\" class=\"container-fields\"><span class=\"field-key\" title=\".sex\">sex: </span><span class=\"field-value\">M</span></div><div style=\"margin-left: 0px;\" class=\"container-fields\"><span class=\"field-key\" title=\".species\">species: </span><span class=\"field-value\">Rattus norvegicus</span></div><div style=\"margin-left: 0px;\" class=\"container-fields\"><span class=\"field-key\" title=\".subject_id\">subject_id: </span><span class=\"field-value\">302_Arid1b(2)</span></div><details><summary style=\"display: list-item; margin-left: 0px;\" class=\"container-fields field-key\" title=\".date_of_birth\"><b>date_of_birth</b></summary><span class=\"field-key\">2022-06-07 00:00:00+02:00</span></details></div>"
      ],
      "text/plain": [
       "subject pynwb.file.Subject at 0x1853616733024\n",
       "Fields:\n",
       "  age__reference: birth\n",
       "  date_of_birth: 2022-06-07 00:00:00+02:00\n",
       "  sex: M\n",
       "  species: Rattus norvegicus\n",
       "  subject_id: 302_Arid1b(2)"
      ]
     },
     "execution_count": 5,
     "metadata": {},
     "output_type": "execute_result"
    }
   ],
   "source": [
    "nwbfile.subject"
   ]
  },
  {
   "cell_type": "markdown",
   "id": "fb8e86db",
   "metadata": {},
   "source": [
    "# Access Devices Metadata <a name=\"access-devices\"></a>\n",
    "\n",
    "This section demonstrates how to access the [Device](https://pynwb.readthedocs.io/en/stable/pynwb.device.html#module-pynwb.device) field in an NWB file.\n",
    "\n",
    "The [Device](https://pynwb.readthedocs.io/en/stable/pynwb.device.html#module-pynwb.device) field can be accessed as `nwbfile.devices`."
   ]
  },
  {
   "cell_type": "code",
   "execution_count": 6,
   "id": "9679f37f",
   "metadata": {},
   "outputs": [
    {
     "data": {
      "text/html": [
       "\n",
       "        <style>\n",
       "            .container-fields {\n",
       "                font-family: \"Open Sans\", Arial, sans-serif;\n",
       "            }\n",
       "            .container-fields .field-value {\n",
       "                color: #00788E;\n",
       "            }\n",
       "            .container-fields details > summary {\n",
       "                cursor: pointer;\n",
       "                display: list-item;\n",
       "            }\n",
       "            .container-fields details > summary:hover {\n",
       "                color: #0A6EAA;\n",
       "            }\n",
       "        </style>\n",
       "        \n",
       "        <script>\n",
       "            function copyToClipboard(text) {\n",
       "                navigator.clipboard.writeText(text).then(function() {\n",
       "                    console.log('Copied to clipboard: ' + text);\n",
       "                }, function(err) {\n",
       "                    console.error('Could not copy text: ', err);\n",
       "                });\n",
       "            }\n",
       "\n",
       "            document.addEventListener('DOMContentLoaded', function() {\n",
       "                let fieldKeys = document.querySelectorAll('.container-fields .field-key');\n",
       "                fieldKeys.forEach(function(fieldKey) {\n",
       "                    fieldKey.addEventListener('click', function() {\n",
       "                        let accessCode = fieldKey.getAttribute('title').replace('Access code: ', '');\n",
       "                        copyToClipboard(accessCode);\n",
       "                    });\n",
       "                });\n",
       "            });\n",
       "        </script>\n",
       "        <div class='container-wrap'><div class='container-header'><div class='xr-obj-type'><h3>AtlantisPlatform (Device)</h3></div></div><div style=\"margin-left: 0px;\" class=\"container-fields\"><span class=\"field-key\" title=\".description\">description: </span><span class=\"field-value\">Programmable platform (10cm diameter) that can rise from pool bottom (Spooner et al., 1994)</span></div><div style=\"margin-left: 0px;\" class=\"container-fields\"><span class=\"field-key\" title=\".manufacturer\">manufacturer: </span><span class=\"field-value\">Example Manufacturer</span></div></div>"
      ],
      "text/plain": [
       "AtlantisPlatform pynwb.device.Device at 0x1853616732976\n",
       "Fields:\n",
       "  description: Programmable platform (10cm diameter) that can rise from pool bottom (Spooner et al., 1994)\n",
       "  manufacturer: Example Manufacturer"
      ]
     },
     "execution_count": 6,
     "metadata": {},
     "output_type": "execute_result"
    }
   ],
   "source": [
    "nwbfile.devices[\"AtlantisPlatform\"]"
   ]
  },
  {
   "cell_type": "code",
   "execution_count": 7,
   "id": "d4387ef6",
   "metadata": {},
   "outputs": [
    {
     "data": {
      "text/html": [
       "\n",
       "        <style>\n",
       "            .container-fields {\n",
       "                font-family: \"Open Sans\", Arial, sans-serif;\n",
       "            }\n",
       "            .container-fields .field-value {\n",
       "                color: #00788E;\n",
       "            }\n",
       "            .container-fields details > summary {\n",
       "                cursor: pointer;\n",
       "                display: list-item;\n",
       "            }\n",
       "            .container-fields details > summary:hover {\n",
       "                color: #0A6EAA;\n",
       "            }\n",
       "        </style>\n",
       "        \n",
       "        <script>\n",
       "            function copyToClipboard(text) {\n",
       "                navigator.clipboard.writeText(text).then(function() {\n",
       "                    console.log('Copied to clipboard: ' + text);\n",
       "                }, function(err) {\n",
       "                    console.error('Could not copy text: ', err);\n",
       "                });\n",
       "            }\n",
       "\n",
       "            document.addEventListener('DOMContentLoaded', function() {\n",
       "                let fieldKeys = document.querySelectorAll('.container-fields .field-key');\n",
       "                fieldKeys.forEach(function(fieldKey) {\n",
       "                    fieldKey.addEventListener('click', function() {\n",
       "                        let accessCode = fieldKey.getAttribute('title').replace('Access code: ', '');\n",
       "                        copyToClipboard(accessCode);\n",
       "                    });\n",
       "                });\n",
       "            });\n",
       "        </script>\n",
       "        <div class='container-wrap'><div class='container-header'><div class='xr-obj-type'><h3>BehavioralCamera (Device)</h3></div></div><div style=\"margin-left: 0px;\" class=\"container-fields\"><span class=\"field-key\" title=\".description\">description: </span><span class=\"field-value\">CCTV camera mounted on ceiling above arenas for behavioral recording</span></div><div style=\"margin-left: 0px;\" class=\"container-fields\"><span class=\"field-key\" title=\".manufacturer\">manufacturer: </span><span class=\"field-value\">Example Manufacturer</span></div></div>"
      ],
      "text/plain": [
       "BehavioralCamera pynwb.device.Device at 0x1853616725152\n",
       "Fields:\n",
       "  description: CCTV camera mounted on ceiling above arenas for behavioral recording\n",
       "  manufacturer: Example Manufacturer"
      ]
     },
     "execution_count": 7,
     "metadata": {},
     "output_type": "execute_result"
    }
   ],
   "source": [
    "nwbfile.devices[\"BehavioralCamera\"]"
   ]
  },
  {
   "cell_type": "code",
   "execution_count": 8,
   "id": "1848bf89",
   "metadata": {},
   "outputs": [
    {
     "data": {
      "text/html": [
       "\n",
       "        <style>\n",
       "            .container-fields {\n",
       "                font-family: \"Open Sans\", Arial, sans-serif;\n",
       "            }\n",
       "            .container-fields .field-value {\n",
       "                color: #00788E;\n",
       "            }\n",
       "            .container-fields details > summary {\n",
       "                cursor: pointer;\n",
       "                display: list-item;\n",
       "            }\n",
       "            .container-fields details > summary:hover {\n",
       "                color: #0A6EAA;\n",
       "            }\n",
       "        </style>\n",
       "        \n",
       "        <script>\n",
       "            function copyToClipboard(text) {\n",
       "                navigator.clipboard.writeText(text).then(function() {\n",
       "                    console.log('Copied to clipboard: ' + text);\n",
       "                }, function(err) {\n",
       "                    console.error('Could not copy text: ', err);\n",
       "                });\n",
       "            }\n",
       "\n",
       "            document.addEventListener('DOMContentLoaded', function() {\n",
       "                let fieldKeys = document.querySelectorAll('.container-fields .field-key');\n",
       "                fieldKeys.forEach(function(fieldKey) {\n",
       "                    fieldKey.addEventListener('click', function() {\n",
       "                        let accessCode = fieldKey.getAttribute('title').replace('Access code: ', '');\n",
       "                        copyToClipboard(accessCode);\n",
       "                    });\n",
       "                });\n",
       "            });\n",
       "        </script>\n",
       "        <div class='container-wrap'><div class='container-header'><div class='xr-obj-type'><h3>WaterMaze (Device)</h3></div></div><div style=\"margin-left: 0px;\" class=\"container-fields\"><span class=\"field-key\" title=\".description\">description: </span><span class=\"field-value\">Circular pool (2m diameter) with Atlantis platform and spatial cues</span></div><div style=\"margin-left: 0px;\" class=\"container-fields\"><span class=\"field-key\" title=\".manufacturer\">manufacturer: </span><span class=\"field-value\">Example Manufacturer</span></div></div>"
      ],
      "text/plain": [
       "WaterMaze pynwb.device.Device at 0x1855055127728\n",
       "Fields:\n",
       "  description: Circular pool (2m diameter) with Atlantis platform and spatial cues\n",
       "  manufacturer: Example Manufacturer"
      ]
     },
     "execution_count": 8,
     "metadata": {},
     "output_type": "execute_result"
    }
   ],
   "source": [
    "nwbfile.devices[\"WaterMaze\"]"
   ]
  },
  {
   "cell_type": "markdown",
   "id": "3cf8ea02-963b-40fc-b312-d90d2b328b30",
   "metadata": {},
   "source": [
    "# Access Behavioral Video <a name=\"access-behavior\"></a>\n",
    "\n",
    "The behavioral videos are stored as an external `ImageSeries` in the NWB file."
   ]
  },
  {
   "cell_type": "code",
   "execution_count": 9,
   "id": "9d6c7f13-7ad3-4716-9a49-ac977b6ffbd0",
   "metadata": {},
   "outputs": [
    {
     "name": "stdout",
     "output_type": "stream",
     "text": [
      "BehavioralVideoTrial1\n",
      "BehavioralVideoTrial2\n",
      "BehavioralVideoTrial3\n",
      "BehavioralVideoTrial4\n"
     ]
    }
   ],
   "source": [
    "# List all behavioral video acquisitions\n",
    "for name in nwbfile.acquisition:\n",
    "    if \"BehavioralVideo\" in name:\n",
    "        print(name)"
   ]
  },
  {
   "cell_type": "code",
   "execution_count": 10,
   "id": "db6b653a-dc67-47d7-a586-4d647403e6e7",
   "metadata": {},
   "outputs": [
    {
     "data": {
      "text/html": [
       "\n",
       "        <style>\n",
       "            .container-fields {\n",
       "                font-family: \"Open Sans\", Arial, sans-serif;\n",
       "            }\n",
       "            .container-fields .field-value {\n",
       "                color: #00788E;\n",
       "            }\n",
       "            .container-fields details > summary {\n",
       "                cursor: pointer;\n",
       "                display: list-item;\n",
       "            }\n",
       "            .container-fields details > summary:hover {\n",
       "                color: #0A6EAA;\n",
       "            }\n",
       "        </style>\n",
       "        \n",
       "        <script>\n",
       "            function copyToClipboard(text) {\n",
       "                navigator.clipboard.writeText(text).then(function() {\n",
       "                    console.log('Copied to clipboard: ' + text);\n",
       "                }, function(err) {\n",
       "                    console.error('Could not copy text: ', err);\n",
       "                });\n",
       "            }\n",
       "\n",
       "            document.addEventListener('DOMContentLoaded', function() {\n",
       "                let fieldKeys = document.querySelectorAll('.container-fields .field-key');\n",
       "                fieldKeys.forEach(function(fieldKey) {\n",
       "                    fieldKey.addEventListener('click', function() {\n",
       "                        let accessCode = fieldKey.getAttribute('title').replace('Access code: ', '');\n",
       "                        copyToClipboard(accessCode);\n",
       "                    });\n",
       "                });\n",
       "            });\n",
       "        </script>\n",
       "        <div class='container-wrap'><div class='container-header'><div class='xr-obj-type'><h3>BehavioralVideoTrial1 (ImageSeries)</h3></div></div><div style=\"margin-left: 0px;\" class=\"container-fields\"><span class=\"field-key\" title=\".starting_time\">starting_time: </span><span class=\"field-value\">0.0</span></div><div style=\"margin-left: 0px;\" class=\"container-fields\"><span class=\"field-key\" title=\".rate\">rate: </span><span class=\"field-value\">10.0</span></div><div style=\"margin-left: 0px;\" class=\"container-fields\"><span class=\"field-key\" title=\".resolution\">resolution: </span><span class=\"field-value\">-1.0</span></div><div style=\"margin-left: 0px;\" class=\"container-fields\"><span class=\"field-key\" title=\".comments\">comments: </span><span class=\"field-value\">no comments</span></div><div style=\"margin-left: 0px;\" class=\"container-fields\"><span class=\"field-key\" title=\".description\">description: </span><span class=\"field-value\">Video recording of the rat's behavior during the first swim of the day. Recorded using a CCTV camera mounted on the ceiling above the arenas.\n",
       "</span></div><div style=\"margin-left: 0px;\" class=\"container-fields\"><span class=\"field-key\" title=\".conversion\">conversion: </span><span class=\"field-value\">1.0</span></div><div style=\"margin-left: 0px;\" class=\"container-fields\"><span class=\"field-key\" title=\".offset\">offset: </span><span class=\"field-value\">0.0</span></div><div style=\"margin-left: 0px;\" class=\"container-fields\"><span class=\"field-key\" title=\".unit\">unit: </span><span class=\"field-value\">Frames</span></div><details><summary style=\"display: list-item; margin-left: 0px;\" class=\"container-fields field-key\" title=\".data\"><b>data</b></summary><div style=\"margin-left: 20px;\" class=\"container-fields\">HDF5 dataset<br><table class=\"data-info\"><tbody><tr><th style=\"text-align: left\">Data type</th><td style=\"text-align: left\">uint8</td></tr><tr><th style=\"text-align: left\">Shape</th><td style=\"text-align: left\">(0, 0, 0)</td></tr><tr><th style=\"text-align: left\">Array size</th><td style=\"text-align: left\">0.00 bytes</td></tr><tr><th style=\"text-align: left\">Chunk shape</th><td style=\"text-align: left\">None</td></tr><tr><th style=\"text-align: left\">Compression</th><td style=\"text-align: left\">None</td></tr><tr><th style=\"text-align: left\">Compression opts</th><td style=\"text-align: left\">None</td></tr><tr><th style=\"text-align: left\">Compression ratio</th><td style=\"text-align: left\">undefined</td></tr></tbody></table><br>[]</div></details><div style=\"margin-left: 0px;\" class=\"container-fields\"><span class=\"field-key\" title=\".starting_time_unit\">starting_time_unit: </span><span class=\"field-value\">seconds</span></div><details><summary style=\"display: list-item; margin-left: 0px;\" class=\"container-fields field-key\" title=\".external_file\"><b>external_file</b></summary><div style=\"margin-left: 20px;\" class=\"container-fields\">HDF5 dataset<br><table class=\"data-info\"><tbody><tr><th style=\"text-align: left\">Data type</th><td style=\"text-align: left\">object</td></tr><tr><th style=\"text-align: left\">Shape</th><td style=\"text-align: left\">(1,)</td></tr><tr><th style=\"text-align: left\">Array size</th><td style=\"text-align: left\">8.00 bytes</td></tr><tr><th style=\"text-align: left\">Chunk shape</th><td style=\"text-align: left\">None</td></tr><tr><th style=\"text-align: left\">Compression</th><td style=\"text-align: left\">None</td></tr><tr><th style=\"text-align: left\">Compression opts</th><td style=\"text-align: left\">None</td></tr><tr><th style=\"text-align: left\">Compression ratio</th><td style=\"text-align: left\">0.5</td></tr></tbody></table><br>[b'/Volumes/T9/Behavioural Pipeline/Water Maze/Arid1b/Arid1b(2)_WM/2_Reference/302_00.avi']</div></details><details><summary style=\"display: list-item; margin-left: 0px;\" class=\"container-fields field-key\" title=\".starting_frame\"><b>starting_frame</b></summary><div style=\"margin-left: 20px;\" class=\"container-fields\">NumPy array<br><table class=\"data-info\"><tbody><tr><th style=\"text-align: left\">Data type</th><td style=\"text-align: left\">int64</td></tr><tr><th style=\"text-align: left\">Shape</th><td style=\"text-align: left\">(1,)</td></tr><tr><th style=\"text-align: left\">Array size</th><td style=\"text-align: left\">8.00 bytes</td></tr></tbody></table><br>[0]</div></details><div style=\"margin-left: 0px;\" class=\"container-fields\"><span class=\"field-key\" title=\".format\">format: </span><span class=\"field-value\">external</span></div><details><summary style=\"display: list-item; margin-left: 0px;\" class=\"container-fields field-key\" title=\".device\"><b>device</b></summary><div style=\"margin-left: 20px;\" class=\"container-fields\"><span class=\"field-key\" title=\".device.description\">description: </span><span class=\"field-value\">CCTV camera mounted on ceiling above arenas for behavioral recording</span></div><div style=\"margin-left: 20px;\" class=\"container-fields\"><span class=\"field-key\" title=\".device.manufacturer\">manufacturer: </span><span class=\"field-value\">Example Manufacturer</span></div></details></div>"
      ],
      "text/plain": [
       "BehavioralVideoTrial1 pynwb.image.ImageSeries at 0x1853615634624\n",
       "Fields:\n",
       "  comments: no comments\n",
       "  conversion: 1.0\n",
       "  data: <HDF5 dataset \"data\": shape (0, 0, 0), type \"|u1\">\n",
       "  description: Video recording of the rat's behavior during the first swim of the day. Recorded using a CCTV camera mounted on the ceiling above the arenas.\n",
       "\n",
       "  device: BehavioralCamera pynwb.device.Device at 0x1853616725152\n",
       "Fields:\n",
       "  description: CCTV camera mounted on ceiling above arenas for behavioral recording\n",
       "  manufacturer: Example Manufacturer\n",
       "\n",
       "  external_file: <StrDataset for HDF5 dataset \"external_file\": shape (1,), type \"|O\">\n",
       "  format: external\n",
       "  offset: 0.0\n",
       "  rate: 10.0\n",
       "  resolution: -1.0\n",
       "  starting_frame: [0]\n",
       "  starting_time: 0.0\n",
       "  starting_time_unit: seconds\n",
       "  unit: Frames"
      ]
     },
     "execution_count": 10,
     "metadata": {},
     "output_type": "execute_result"
    }
   ],
   "source": [
    "video = nwbfile.acquisition[\"BehavioralVideoTrial1\"]\n",
    "video"
   ]
  },
  {
   "cell_type": "markdown",
   "id": "7f5294ad-4910-4df2-b183-1bc74f538b1a",
   "metadata": {},
   "source": [
    "The video filepath:"
   ]
  },
  {
   "cell_type": "code",
   "execution_count": 11,
   "id": "d79cfb8c-eb10-4c22-80b5-6d5a20f1cb0a",
   "metadata": {},
   "outputs": [
    {
     "data": {
      "text/plain": [
       "'/Volumes/T9/Behavioural Pipeline/Water Maze/Arid1b/Arid1b(2)_WM/2_Reference/302_00.avi'"
      ]
     },
     "execution_count": 11,
     "metadata": {},
     "output_type": "execute_result"
    }
   ],
   "source": [
    "video.external_file[0]"
   ]
  },
  {
   "cell_type": "markdown",
   "id": "f51d5b8a-649b-45df-b48f-ee2ef31bfb0e",
   "metadata": {},
   "source": [
    "The metadata of the device used to record the behavioral video:"
   ]
  },
  {
   "cell_type": "code",
   "execution_count": 12,
   "id": "7466a25b-a756-4bfe-a410-eeaab6f58799",
   "metadata": {},
   "outputs": [
    {
     "data": {
      "text/html": [
       "\n",
       "        <style>\n",
       "            .container-fields {\n",
       "                font-family: \"Open Sans\", Arial, sans-serif;\n",
       "            }\n",
       "            .container-fields .field-value {\n",
       "                color: #00788E;\n",
       "            }\n",
       "            .container-fields details > summary {\n",
       "                cursor: pointer;\n",
       "                display: list-item;\n",
       "            }\n",
       "            .container-fields details > summary:hover {\n",
       "                color: #0A6EAA;\n",
       "            }\n",
       "        </style>\n",
       "        \n",
       "        <script>\n",
       "            function copyToClipboard(text) {\n",
       "                navigator.clipboard.writeText(text).then(function() {\n",
       "                    console.log('Copied to clipboard: ' + text);\n",
       "                }, function(err) {\n",
       "                    console.error('Could not copy text: ', err);\n",
       "                });\n",
       "            }\n",
       "\n",
       "            document.addEventListener('DOMContentLoaded', function() {\n",
       "                let fieldKeys = document.querySelectorAll('.container-fields .field-key');\n",
       "                fieldKeys.forEach(function(fieldKey) {\n",
       "                    fieldKey.addEventListener('click', function() {\n",
       "                        let accessCode = fieldKey.getAttribute('title').replace('Access code: ', '');\n",
       "                        copyToClipboard(accessCode);\n",
       "                    });\n",
       "                });\n",
       "            });\n",
       "        </script>\n",
       "        <div class='container-wrap'><div class='container-header'><div class='xr-obj-type'><h3>BehavioralCamera (Device)</h3></div></div><div style=\"margin-left: 0px;\" class=\"container-fields\"><span class=\"field-key\" title=\".description\">description: </span><span class=\"field-value\">CCTV camera mounted on ceiling above arenas for behavioral recording</span></div><div style=\"margin-left: 0px;\" class=\"container-fields\"><span class=\"field-key\" title=\".manufacturer\">manufacturer: </span><span class=\"field-value\">Example Manufacturer</span></div></div>"
      ],
      "text/plain": [
       "BehavioralCamera pynwb.device.Device at 0x1853616725152\n",
       "Fields:\n",
       "  description: CCTV camera mounted on ceiling above arenas for behavioral recording\n",
       "  manufacturer: Example Manufacturer"
      ]
     },
     "execution_count": 12,
     "metadata": {},
     "output_type": "execute_result"
    }
   ],
   "source": [
    "video.device"
   ]
  },
  {
   "cell_type": "markdown",
   "id": "486fef63-ef69-4915-8142-b5036e12cb55",
   "metadata": {},
   "source": [
    "# Access Trials <a id=\"access-trials\"></a>\n",
    "\n",
    "The `nwbfile.trials` contains information about each swim trial, including start and stop times, and trial-specific metrics such as path length, duration, and swim speed.\n",
    "\n",
    "The source of this table is the Water Maze analysis CSV file, generated by the WaterMaze software.\n",
    "\n",
    "You can convert the trials table to a `pandas.DataFrame` for easier exploration:\n",
    "\n"
   ]
  },
  {
   "cell_type": "code",
   "execution_count": 13,
   "id": "2c27d8cd-491d-4976-bb20-ec876059ecd5",
   "metadata": {},
   "outputs": [
    {
     "data": {
      "text/html": [
       "<div>\n",
       "<style scoped>\n",
       "    .dataframe tbody tr th:only-of-type {\n",
       "        vertical-align: middle;\n",
       "    }\n",
       "\n",
       "    .dataframe tbody tr th {\n",
       "        vertical-align: top;\n",
       "    }\n",
       "\n",
       "    .dataframe thead th {\n",
       "        text-align: right;\n",
       "    }\n",
       "</style>\n",
       "<table border=\"1\" class=\"dataframe\">\n",
       "  <thead>\n",
       "    <tr style=\"text-align: right;\">\n",
       "      <th></th>\n",
       "      <th>start_time</th>\n",
       "      <th>stop_time</th>\n",
       "      <th>platform</th>\n",
       "      <th>time_to_platform</th>\n",
       "      <th>trial_duration</th>\n",
       "      <th>distance_travelled_cm</th>\n",
       "      <th>average_speed</th>\n",
       "      <th>percent_time_near_walls</th>\n",
       "      <th>platform_quadrant</th>\n",
       "      <th>time_in_NE_quadrant</th>\n",
       "      <th>...</th>\n",
       "      <th>time_in_NW_quadrant</th>\n",
       "      <th>percent_time_in_NW_quadrant</th>\n",
       "      <th>time_to_platform_NW</th>\n",
       "      <th>time_in_SW_quadrant</th>\n",
       "      <th>percent_time_in_SW_quadrant</th>\n",
       "      <th>time_to_platform_SW</th>\n",
       "      <th>time_in_SE_quadrant</th>\n",
       "      <th>percent_time_in_SE_quadrant</th>\n",
       "      <th>time_to_platform_SE</th>\n",
       "      <th>timeseries</th>\n",
       "    </tr>\n",
       "    <tr>\n",
       "      <th>id</th>\n",
       "      <th></th>\n",
       "      <th></th>\n",
       "      <th></th>\n",
       "      <th></th>\n",
       "      <th></th>\n",
       "      <th></th>\n",
       "      <th></th>\n",
       "      <th></th>\n",
       "      <th></th>\n",
       "      <th></th>\n",
       "      <th></th>\n",
       "      <th></th>\n",
       "      <th></th>\n",
       "      <th></th>\n",
       "      <th></th>\n",
       "      <th></th>\n",
       "      <th></th>\n",
       "      <th></th>\n",
       "      <th></th>\n",
       "      <th></th>\n",
       "      <th></th>\n",
       "    </tr>\n",
       "  </thead>\n",
       "  <tbody>\n",
       "    <tr>\n",
       "      <th>0</th>\n",
       "      <td>0.0</td>\n",
       "      <td>103.050</td>\n",
       "      <td>NE_A</td>\n",
       "      <td>102.760</td>\n",
       "      <td>103.050</td>\n",
       "      <td>3217.592</td>\n",
       "      <td>31.224</td>\n",
       "      <td>1.359</td>\n",
       "      <td>1</td>\n",
       "      <td>35.117</td>\n",
       "      <td>...</td>\n",
       "      <td>13.206</td>\n",
       "      <td>12.816</td>\n",
       "      <td>33.506</td>\n",
       "      <td>19.009</td>\n",
       "      <td>18.447</td>\n",
       "      <td>0.0</td>\n",
       "      <td>35.717</td>\n",
       "      <td>34.660</td>\n",
       "      <td>0.0</td>\n",
       "      <td>[(0, 1030, BehavioralVideoTrial1 pynwb.image.I...</td>\n",
       "    </tr>\n",
       "    <tr>\n",
       "      <th>1</th>\n",
       "      <td>1320.0</td>\n",
       "      <td>1329.349</td>\n",
       "      <td>NE</td>\n",
       "      <td>9.051</td>\n",
       "      <td>9.349</td>\n",
       "      <td>303.463</td>\n",
       "      <td>32.459</td>\n",
       "      <td>0.000</td>\n",
       "      <td>1</td>\n",
       "      <td>3.936</td>\n",
       "      <td>...</td>\n",
       "      <td>0.000</td>\n",
       "      <td>0.000</td>\n",
       "      <td>0.000</td>\n",
       "      <td>0.000</td>\n",
       "      <td>0.000</td>\n",
       "      <td>0.0</td>\n",
       "      <td>5.413</td>\n",
       "      <td>57.895</td>\n",
       "      <td>0.0</td>\n",
       "      <td>[(0, 93, BehavioralVideoTrial2 pynwb.image.Ima...</td>\n",
       "    </tr>\n",
       "    <tr>\n",
       "      <th>2</th>\n",
       "      <td>2820.0</td>\n",
       "      <td>2827.957</td>\n",
       "      <td>NE</td>\n",
       "      <td>5.949</td>\n",
       "      <td>7.957</td>\n",
       "      <td>156.390</td>\n",
       "      <td>19.654</td>\n",
       "      <td>0.000</td>\n",
       "      <td>1</td>\n",
       "      <td>5.599</td>\n",
       "      <td>...</td>\n",
       "      <td>2.358</td>\n",
       "      <td>29.630</td>\n",
       "      <td>0.000</td>\n",
       "      <td>0.000</td>\n",
       "      <td>0.000</td>\n",
       "      <td>0.0</td>\n",
       "      <td>0.000</td>\n",
       "      <td>0.000</td>\n",
       "      <td>0.0</td>\n",
       "      <td>[(0, 79, BehavioralVideoTrial3 pynwb.image.Ima...</td>\n",
       "    </tr>\n",
       "    <tr>\n",
       "      <th>3</th>\n",
       "      <td>3840.0</td>\n",
       "      <td>3847.800</td>\n",
       "      <td>NE</td>\n",
       "      <td>7.501</td>\n",
       "      <td>7.800</td>\n",
       "      <td>253.789</td>\n",
       "      <td>32.537</td>\n",
       "      <td>2.532</td>\n",
       "      <td>1</td>\n",
       "      <td>1.284</td>\n",
       "      <td>...</td>\n",
       "      <td>0.296</td>\n",
       "      <td>3.797</td>\n",
       "      <td>0.000</td>\n",
       "      <td>3.456</td>\n",
       "      <td>44.304</td>\n",
       "      <td>2.6</td>\n",
       "      <td>2.765</td>\n",
       "      <td>35.443</td>\n",
       "      <td>4.6</td>\n",
       "      <td>[(0, 78, BehavioralVideoTrial4 pynwb.image.Ima...</td>\n",
       "    </tr>\n",
       "  </tbody>\n",
       "</table>\n",
       "<p>4 rows × 22 columns</p>\n",
       "</div>"
      ],
      "text/plain": [
       "    start_time  stop_time platform  time_to_platform  trial_duration  \\\n",
       "id                                                                     \n",
       "0          0.0    103.050     NE_A           102.760         103.050   \n",
       "1       1320.0   1329.349       NE             9.051           9.349   \n",
       "2       2820.0   2827.957       NE             5.949           7.957   \n",
       "3       3840.0   3847.800       NE             7.501           7.800   \n",
       "\n",
       "   distance_travelled_cm  average_speed percent_time_near_walls  \\\n",
       "id                                                                \n",
       "0               3217.592         31.224                   1.359   \n",
       "1                303.463         32.459                   0.000   \n",
       "2                156.390         19.654                   0.000   \n",
       "3                253.789         32.537                   2.532   \n",
       "\n",
       "    platform_quadrant  time_in_NE_quadrant  ...  time_in_NW_quadrant  \\\n",
       "id                                          ...                        \n",
       "0                   1               35.117  ...               13.206   \n",
       "1                   1                3.936  ...                0.000   \n",
       "2                   1                5.599  ...                2.358   \n",
       "3                   1                1.284  ...                0.296   \n",
       "\n",
       "    percent_time_in_NW_quadrant  time_to_platform_NW  time_in_SW_quadrant  \\\n",
       "id                                                                          \n",
       "0                        12.816               33.506               19.009   \n",
       "1                         0.000                0.000                0.000   \n",
       "2                        29.630                0.000                0.000   \n",
       "3                         3.797                0.000                3.456   \n",
       "\n",
       "    percent_time_in_SW_quadrant  time_to_platform_SW  time_in_SE_quadrant  \\\n",
       "id                                                                          \n",
       "0                        18.447                  0.0               35.717   \n",
       "1                         0.000                  0.0                5.413   \n",
       "2                         0.000                  0.0                0.000   \n",
       "3                        44.304                  2.6                2.765   \n",
       "\n",
       "    percent_time_in_SE_quadrant  time_to_platform_SE  \\\n",
       "id                                                     \n",
       "0                        34.660                  0.0   \n",
       "1                        57.895                  0.0   \n",
       "2                         0.000                  0.0   \n",
       "3                        35.443                  4.6   \n",
       "\n",
       "                                           timeseries  \n",
       "id                                                     \n",
       "0   [(0, 1030, BehavioralVideoTrial1 pynwb.image.I...  \n",
       "1   [(0, 93, BehavioralVideoTrial2 pynwb.image.Ima...  \n",
       "2   [(0, 79, BehavioralVideoTrial3 pynwb.image.Ima...  \n",
       "3   [(0, 78, BehavioralVideoTrial4 pynwb.image.Ima...  \n",
       "\n",
       "[4 rows x 22 columns]"
      ]
     },
     "execution_count": 13,
     "metadata": {},
     "output_type": "execute_result"
    }
   ],
   "source": [
    "trials = nwbfile.trials.to_dataframe()\n",
    "trials"
   ]
  },
  {
   "cell_type": "code",
   "execution_count": 14,
   "id": "78ff953c",
   "metadata": {},
   "outputs": [
    {
     "name": "stderr",
     "output_type": "stream",
     "text": [
      "C:\\Users\\Utente\\AppData\\Local\\Temp\\ipykernel_3848\\2204253063.py:30: UserWarning: marker is redundantly defined by the 'marker' keyword argument and the fmt string \"o-\" (-> marker='o'). The keyword argument will take precedence.\n",
      "  ax2.plot(trial_numbers, trials['time_to_platform'], 'o-', color='#8c564b',\n"
     ]
    },
    {
     "data": {
      "image/png": "[encoded data removed]",
      "text/plain": [
       "<Figure size 1000x600 with 4 Axes>"
      ]
     },
     "metadata": {},
     "output_type": "display_data"
    }
   ],
   "source": [
    "import matplotlib.pyplot as plt\n",
    "import numpy as np\n",
    "import seaborn as sns\n",
    "\n",
    "# Set styling for better visualization\n",
    "plt.style.use('seaborn-v0_8-whitegrid')\n",
    "sns.set_palette(\"viridis\")\n",
    "\n",
    "# Create a figure with better organization of plots\n",
    "fig = plt.figure(figsize=(10, 6))\n",
    "\n",
    "# Create a grid specification for better layout control\n",
    "gs = fig.add_gridspec(2, 2)\n",
    "\n",
    "# 1. Heat map of movement patterns (quadrant preferences over trials)\n",
    "ax1 = fig.add_subplot(gs[0, :])\n",
    "quadrant_columns = ['time_in_NE_quadrant', 'time_in_NW_quadrant', \n",
    "                   'time_in_SW_quadrant', 'time_in_SE_quadrant']\n",
    "quadrant_data = trials[quadrant_columns]\n",
    "quadrant_data.columns = ['NE (Platform)', 'NW', 'SW', 'SE']\n",
    "sns.heatmap(quadrant_data.T, annot=True, cmap='YlGnBu', fmt='.1f', ax=ax1)\n",
    "ax1.set_title('Time in Each Quadrant by Trial', fontsize=14)\n",
    "ax1.set_ylabel('Quadrant', fontsize=12)\n",
    "ax1.set_xlabel('Trial Number', fontsize=12)\n",
    "ax1.set_xticklabels([f'Trial {i+1}' for i in range(len(trials))])\n",
    "\n",
    "# 2. Time to find platform (decreasing trend shows learning)\n",
    "ax2 = fig.add_subplot(gs[1, 0])\n",
    "trial_numbers = range(1, len(trials) + 1)\n",
    "ax2.plot(trial_numbers, trials['time_to_platform'], 'o-', color='#8c564b', \n",
    "         linewidth=2, marker='o', markersize=10)\n",
    "ax2.set_title('Time to Find Platform', fontsize=14)\n",
    "ax2.set_xlabel('Trial Number', fontsize=12)\n",
    "ax2.set_ylabel('Time (s)', fontsize=12)\n",
    "ax2.set_xticks(trial_numbers)\n",
    "\n",
    "# 3. Speed profile across trials\n",
    "ax3 = fig.add_subplot(gs[1, 1])\n",
    "ax3.plot(trial_numbers, trials['average_speed'], 'D-', color='#d62728', linewidth=2)\n",
    "ax3.set_title('Average Swimming Speed', fontsize=14)\n",
    "ax3.set_xlabel('Trial Number', fontsize=12)\n",
    "ax3.set_ylabel('Speed (cm/s)', fontsize=12)\n",
    "ax3.set_xticks(trial_numbers)\n",
    "\n",
    "plt.tight_layout()\n",
    "plt.suptitle(f\"Water Maze Performance - {subject_id}\", fontsize=18, y=1.02)\n",
    "plt.subplots_adjust(top=0.9)\n",
    "plt.show()\n"
   ]
  },
  {
   "cell_type": "markdown",
   "id": "994795d7-0eb1-4941-881d-cf0939c00552",
   "metadata": {},
   "source": [
    "The trials table also contains a `timeseries` column which contains references to the video associated with each trial.\n"
   ]
  },
  {
   "cell_type": "code",
   "execution_count": 15,
   "id": "8e8f9d1a-bacd-49ee-83de-6aed9bc71d57",
   "metadata": {},
   "outputs": [
    {
     "data": {
      "text/html": [
       "\n",
       "        <style>\n",
       "            .container-fields {\n",
       "                font-family: \"Open Sans\", Arial, sans-serif;\n",
       "            }\n",
       "            .container-fields .field-value {\n",
       "                color: #00788E;\n",
       "            }\n",
       "            .container-fields details > summary {\n",
       "                cursor: pointer;\n",
       "                display: list-item;\n",
       "            }\n",
       "            .container-fields details > summary:hover {\n",
       "                color: #0A6EAA;\n",
       "            }\n",
       "        </style>\n",
       "        \n",
       "        <script>\n",
       "            function copyToClipboard(text) {\n",
       "                navigator.clipboard.writeText(text).then(function() {\n",
       "                    console.log('Copied to clipboard: ' + text);\n",
       "                }, function(err) {\n",
       "                    console.error('Could not copy text: ', err);\n",
       "                });\n",
       "            }\n",
       "\n",
       "            document.addEventListener('DOMContentLoaded', function() {\n",
       "                let fieldKeys = document.querySelectorAll('.container-fields .field-key');\n",
       "                fieldKeys.forEach(function(fieldKey) {\n",
       "                    fieldKey.addEventListener('click', function() {\n",
       "                        let accessCode = fieldKey.getAttribute('title').replace('Access code: ', '');\n",
       "                        copyToClipboard(accessCode);\n",
       "                    });\n",
       "                });\n",
       "            });\n",
       "        </script>\n",
       "        <div class='container-wrap'><div class='container-header'><div class='xr-obj-type'><h3>BehavioralVideoTrial1 (ImageSeries)</h3></div></div><div style=\"margin-left: 0px;\" class=\"container-fields\"><span class=\"field-key\" title=\".starting_time\">starting_time: </span><span class=\"field-value\">0.0</span></div><div style=\"margin-left: 0px;\" class=\"container-fields\"><span class=\"field-key\" title=\".rate\">rate: </span><span class=\"field-value\">10.0</span></div><div style=\"margin-left: 0px;\" class=\"container-fields\"><span class=\"field-key\" title=\".resolution\">resolution: </span><span class=\"field-value\">-1.0</span></div><div style=\"margin-left: 0px;\" class=\"container-fields\"><span class=\"field-key\" title=\".comments\">comments: </span><span class=\"field-value\">no comments</span></div><div style=\"margin-left: 0px;\" class=\"container-fields\"><span class=\"field-key\" title=\".description\">description: </span><span class=\"field-value\">Video recording of the rat's behavior during the first swim of the day. Recorded using a CCTV camera mounted on the ceiling above the arenas.\n",
       "</span></div><div style=\"margin-left: 0px;\" class=\"container-fields\"><span class=\"field-key\" title=\".conversion\">conversion: </span><span class=\"field-value\">1.0</span></div><div style=\"margin-left: 0px;\" class=\"container-fields\"><span class=\"field-key\" title=\".offset\">offset: </span><span class=\"field-value\">0.0</span></div><div style=\"margin-left: 0px;\" class=\"container-fields\"><span class=\"field-key\" title=\".unit\">unit: </span><span class=\"field-value\">Frames</span></div><details><summary style=\"display: list-item; margin-left: 0px;\" class=\"container-fields field-key\" title=\".data\"><b>data</b></summary><div style=\"margin-left: 20px;\" class=\"container-fields\">HDF5 dataset<br><table class=\"data-info\"><tbody><tr><th style=\"text-align: left\">Data type</th><td style=\"text-align: left\">uint8</td></tr><tr><th style=\"text-align: left\">Shape</th><td style=\"text-align: left\">(0, 0, 0)</td></tr><tr><th style=\"text-align: left\">Array size</th><td style=\"text-align: left\">0.00 bytes</td></tr><tr><th style=\"text-align: left\">Chunk shape</th><td style=\"text-align: left\">None</td></tr><tr><th style=\"text-align: left\">Compression</th><td style=\"text-align: left\">None</td></tr><tr><th style=\"text-align: left\">Compression opts</th><td style=\"text-align: left\">None</td></tr><tr><th style=\"text-align: left\">Compression ratio</th><td style=\"text-align: left\">undefined</td></tr></tbody></table><br>[]</div></details><div style=\"margin-left: 0px;\" class=\"container-fields\"><span class=\"field-key\" title=\".starting_time_unit\">starting_time_unit: </span><span class=\"field-value\">seconds</span></div><details><summary style=\"display: list-item; margin-left: 0px;\" class=\"container-fields field-key\" title=\".external_file\"><b>external_file</b></summary><div style=\"margin-left: 20px;\" class=\"container-fields\">HDF5 dataset<br><table class=\"data-info\"><tbody><tr><th style=\"text-align: left\">Data type</th><td style=\"text-align: left\">object</td></tr><tr><th style=\"text-align: left\">Shape</th><td style=\"text-align: left\">(1,)</td></tr><tr><th style=\"text-align: left\">Array size</th><td style=\"text-align: left\">8.00 bytes</td></tr><tr><th style=\"text-align: left\">Chunk shape</th><td style=\"text-align: left\">None</td></tr><tr><th style=\"text-align: left\">Compression</th><td style=\"text-align: left\">None</td></tr><tr><th style=\"text-align: left\">Compression opts</th><td style=\"text-align: left\">None</td></tr><tr><th style=\"text-align: left\">Compression ratio</th><td style=\"text-align: left\">0.5</td></tr></tbody></table><br>[b'/Volumes/T9/Behavioural Pipeline/Water Maze/Arid1b/Arid1b(2)_WM/2_Reference/302_00.avi']</div></details><details><summary style=\"display: list-item; margin-left: 0px;\" class=\"container-fields field-key\" title=\".starting_frame\"><b>starting_frame</b></summary><div style=\"margin-left: 20px;\" class=\"container-fields\">NumPy array<br><table class=\"data-info\"><tbody><tr><th style=\"text-align: left\">Data type</th><td style=\"text-align: left\">int64</td></tr><tr><th style=\"text-align: left\">Shape</th><td style=\"text-align: left\">(1,)</td></tr><tr><th style=\"text-align: left\">Array size</th><td style=\"text-align: left\">8.00 bytes</td></tr></tbody></table><br>[0]</div></details><div style=\"margin-left: 0px;\" class=\"container-fields\"><span class=\"field-key\" title=\".format\">format: </span><span class=\"field-value\">external</span></div><details><summary style=\"display: list-item; margin-left: 0px;\" class=\"container-fields field-key\" title=\".device\"><b>device</b></summary><div style=\"margin-left: 20px;\" class=\"container-fields\"><span class=\"field-key\" title=\".device.description\">description: </span><span class=\"field-value\">CCTV camera mounted on ceiling above arenas for behavioral recording</span></div><div style=\"margin-left: 20px;\" class=\"container-fields\"><span class=\"field-key\" title=\".device.manufacturer\">manufacturer: </span><span class=\"field-value\">Example Manufacturer</span></div></details></div>"
      ],
      "text/plain": [
       "BehavioralVideoTrial1 pynwb.image.ImageSeries at 0x1853615634624\n",
       "Fields:\n",
       "  comments: no comments\n",
       "  conversion: 1.0\n",
       "  data: <HDF5 dataset \"data\": shape (0, 0, 0), type \"|u1\">\n",
       "  description: Video recording of the rat's behavior during the first swim of the day. Recorded using a CCTV camera mounted on the ceiling above the arenas.\n",
       "\n",
       "  device: BehavioralCamera pynwb.device.Device at 0x1853616725152\n",
       "Fields:\n",
       "  description: CCTV camera mounted on ceiling above arenas for behavioral recording\n",
       "  manufacturer: Example Manufacturer\n",
       "\n",
       "  external_file: <StrDataset for HDF5 dataset \"external_file\": shape (1,), type \"|O\">\n",
       "  format: external\n",
       "  offset: 0.0\n",
       "  rate: 10.0\n",
       "  resolution: -1.0\n",
       "  starting_frame: [0]\n",
       "  starting_time: 0.0\n",
       "  starting_time_unit: seconds\n",
       "  unit: Frames"
      ]
     },
     "execution_count": 15,
     "metadata": {},
     "output_type": "execute_result"
    }
   ],
   "source": [
    "# Access the external video from the trials table for the first trial\n",
    "video_reference = nwbfile.trials[\"timeseries\"][0][0]\n",
    "video_object = video_reference.timeseries\n",
    "video_object"
   ]
  }
 ],
 "metadata": {
  "kernelspec": {
   "display_name": "kind_lab_to_nwb_env",
   "language": "python",
   "name": "python3"
  },
  "language_info": {
   "codemirror_mode": {
    "name": "ipython",
    "version": 3
   },
   "file_extension": ".py",
   "mimetype": "text/x-python",
   "name": "python",
   "nbconvert_exporter": "python",
   "pygments_lexer": "ipython3",
   "version": "3.12.8"
  }
 },
 "nbformat": 4,
 "nbformat_minor": 5
}
