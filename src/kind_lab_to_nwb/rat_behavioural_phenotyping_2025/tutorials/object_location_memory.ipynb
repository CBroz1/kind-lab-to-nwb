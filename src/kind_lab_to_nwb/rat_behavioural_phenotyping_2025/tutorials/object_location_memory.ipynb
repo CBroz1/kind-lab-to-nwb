{
 "cells": [
  {
   "cell_type": "markdown",
   "id": "968aef84-bc0f-4c6c-8350-bd003217be62",
   "metadata": {},
   "source": [
    "# Object Location Memory NWB Tutorial\n",
    "\n",
    "This tutorial demonstrates how to load and explore an NWB file containing only behavioral data from the object location memory experiment, part of the [Rat Behavioural Phenotyping Pipeline Methodologies](https://sidb.org.uk/facilities/rat-behavioural-phenotyping-pipeline/).\n",
    "\n",
    "Contents:\n",
    "\n",
    "- [Reading NWBFile locally](#read-nwb)\n",
    "- [Access Subject Metadata](#access-subject)\n",
    "- [Access Devices Metadata](#access-devices)\n",
    "- [Access Behavioral Videos](#access-behavior)\n",
    "- [Access Annotated Behavioral Events](#access-events)\n",
    "\n"
   ]
  },
  {
   "cell_type": "markdown",
   "id": "b37ec519-2b98-457a-95c9-5d3c4d5f686f",
   "metadata": {},
   "source": [
    "# Reading an NWB file locally<a id=\"read-nwb\"></a>\n",
    "\n",
    "\n",
    "This section demonstrates how to read an NWB file using `pynwb`.\n",
    "\n",
    "Based on the [NWB File Basics](https://pynwb.readthedocs.io/en/stable/tutorials/general/plot_file.html#sphx-glr-tutorials-general-plot-file-py) tutorial from [PyNWB](https://pynwb.readthedocs.io/en/stable/#).\n",
    "\n",
    "An [NWBFile](https://pynwb.readthedocs.io/en/stable/pynwb.file.html#pynwb.file.NWBFile) represents a single session of an experiment. Each NWBFile must have a `session description`, `identifier`, and `session start time`.\n",
    "\n",
    "Reading is carried out using the [NWBHDF5IO](https://pynwb.readthedocs.io/en/stable/pynwb.html#pynwb.NWBHDF5IO) class. To read the NWB file use the read mode (\"r\") to retrieve an NWBFile object."
   ]
  },
  {
   "cell_type": "code",
   "execution_count": 1,
   "id": "65e512d772fad3eb",
   "metadata": {},
   "outputs": [
    {
     "name": "stderr",
     "output_type": "stream",
     "text": [
      "c:\\Users\\Utente\\anaconda3\\envs\\kind_lab_to_nwb_env\\Lib\\site-packages\\hdmf\\spec\\namespace.py:535: UserWarning: Ignoring cached namespace 'core' version 2.7.0 because version 2.8.0 is already loaded.\n",
      "  warn(\"Ignoring cached namespace '%s' version %s because version %s is already loaded.\"\n"
     ]
    }
   ],
   "source": [
    "from pynwb import NWBHDF5IO\n",
    "from pathlib import Path\n",
    "# Define the path to the NWB file\n",
    "directory = Path(\"D:/kind_lab_conversion_nwb/object_location_memory\")\n",
    "session_id = \"OLM_STM\"\n",
    "subject_id = \"617_Scn2a(8)\"\n",
    "nwbfile_path = directory / f\"sub-{subject_id}_ses-{session_id}.nwb\"\n",
    "io = NWBHDF5IO(path=nwbfile_path, load_namespaces=True)\n",
    "nwbfile = io.read()"
   ]
  },
  {
   "cell_type": "code",
   "execution_count": 2,
   "id": "ea96c9cdf882692b",
   "metadata": {},
   "outputs": [
    {
     "name": "stdout",
     "output_type": "stream",
     "text": [
      "This experiment is part of the Rat Behavioural Phenotyping Pipeline Methodologies https://sidb.org.uk/facilities/rat-behavioural-phenotyping-pipeline/.\n",
      "As an initial effort to characterize the rat lines, these models are being behaviorally phenotyped at SIDB. \n",
      "Rat models are phenotyped according to a rigorous pipeline that assesses behaviours relevant to autism with intellectual disability, such as social and motor skills, and learning and sensory processing. \n",
      "Different cohorts of rats are run through different subsets of tasks to overcome potential order effects on behaviours and to limit the number of tasks each animal is put through.\n",
      "This experiment investigated object location memory in different rat models \n",
      "(Arid1b: https://rgd.mcw.edu/rgdweb/report/strain/main.html?id=14394518, \n",
      "Grin2b: https://rgd.mcw.edu/rgdweb/report/strain/main.html?id=14394515, \n",
      "Scn2a: https://rgd.mcw.edu/rgdweb/report/strain/main.html?id=25394530).\n",
      "The experimenter was blind to genotype throughout the experiment and watched the trials on a screen from outside the testing room.\n",
      "The task utilized two custom-built arenas (60x60 cm) with different wall colors and bedding.\n",
      "Rats underwent habituation followed by sample and test trials to assess their ability to detect object location changes.\n",
      "The protocol included group habituation (10 min), individual habituation (2 days, 10 min each),\n",
      "sample trials (15 min with two identical objects), and test trials (3 min) with one object moved to a new location.\n",
      "Both short-term (5 min delay) and long-term (1 hr delay) memory were assessed.\n",
      "Object exploration was recorded via CCTV camera and manually scored using BORIS software.\n",
      "\n"
     ]
    }
   ],
   "source": [
    "print(nwbfile.experiment_description)"
   ]
  },
  {
   "cell_type": "code",
   "execution_count": 3,
   "id": "47811cb2d7e22d23",
   "metadata": {},
   "outputs": [
    {
     "name": "stdout",
     "output_type": "stream",
     "text": [
      "Experimental Day 5. Short-term memory test. \n",
      "Two identical objects (e.g. ceramic tea lights, glass ornaments, never face or animal related) \n",
      "were fixed in diagonally opposing corners of the arena (10 cm from the sides of the arena). \n",
      "A rat was placed individually in the arena with the objects for a 15 min sample trial. \n",
      "The rat was then removed and placed in the holding bucket for 5 min. \n",
      "The objects were removed from the arena and wiped with 70% ethanol, the arena floor covering was cleared of debris,\n",
      "mixed and flattened. The objects were returned to arena with one in the same location and one moved \n",
      "from the corner to the middle of the wall (the object that moved was counterbalanced across genotype). \n",
      "The rat was returned to the arena for a 3 min test trial, 5 min after the sample trial.\n",
      "\n"
     ]
    }
   ],
   "source": [
    "print(nwbfile.session_description)"
   ]
  },
  {
   "cell_type": "markdown",
   "id": "85cbfb3e-4654-425d-9d3a-b604180f04f5",
   "metadata": {},
   "source": [
    "Importantly, the `session start time` is the reference time for all timestamps in the file. For instance, an event with a timestamp of 0 in the file means the event occurred exactly at the session start time.\n",
    "\n",
    "The `session_start_time` is extracted from the Freeze_Log.xls table."
   ]
  },
  {
   "cell_type": "code",
   "execution_count": 4,
   "id": "initial_id",
   "metadata": {},
   "outputs": [
    {
     "name": "stdout",
     "output_type": "stream",
     "text": [
      "2024-05-02 11:51:02+02:00\n"
     ]
    }
   ],
   "source": [
    "print(nwbfile.session_start_time)"
   ]
  },
  {
   "cell_type": "markdown",
   "id": "aee0a413-963b-4576-8d18-ba2c91c23f83",
   "metadata": {},
   "source": [
    "# Access Subject Metadata <a name=\"access-subject\"></a>\n",
    "\n",
    "This section demonstrates how to access the [Subject](https://pynwb.readthedocs.io/en/stable/pynwb.file.html#pynwb.file.Subject) field in an NWB file.\n",
    "\n",
    "The [Subject](https://pynwb.readthedocs.io/en/stable/pynwb.file.html#pynwb.file.Subject) field can be accessed as `nwbfile.subject`.\n"
   ]
  },
  {
   "cell_type": "code",
   "execution_count": 5,
   "id": "0794a61a-76c8-43ef-836d-1835ca7733e2",
   "metadata": {},
   "outputs": [
    {
     "data": {
      "text/html": [
       "\n",
       "        <style>\n",
       "            .container-fields {\n",
       "                font-family: \"Open Sans\", Arial, sans-serif;\n",
       "            }\n",
       "            .container-fields .field-value {\n",
       "                color: #00788E;\n",
       "            }\n",
       "            .container-fields details > summary {\n",
       "                cursor: pointer;\n",
       "                display: list-item;\n",
       "            }\n",
       "            .container-fields details > summary:hover {\n",
       "                color: #0A6EAA;\n",
       "            }\n",
       "        </style>\n",
       "        \n",
       "        <script>\n",
       "            function copyToClipboard(text) {\n",
       "                navigator.clipboard.writeText(text).then(function() {\n",
       "                    console.log('Copied to clipboard: ' + text);\n",
       "                }, function(err) {\n",
       "                    console.error('Could not copy text: ', err);\n",
       "                });\n",
       "            }\n",
       "\n",
       "            document.addEventListener('DOMContentLoaded', function() {\n",
       "                let fieldKeys = document.querySelectorAll('.container-fields .field-key');\n",
       "                fieldKeys.forEach(function(fieldKey) {\n",
       "                    fieldKey.addEventListener('click', function() {\n",
       "                        let accessCode = fieldKey.getAttribute('title').replace('Access code: ', '');\n",
       "                        copyToClipboard(accessCode);\n",
       "                    });\n",
       "                });\n",
       "            });\n",
       "        </script>\n",
       "        <div class='container-wrap'><div class='container-header'><div class='xr-obj-type'><h3>subject (Subject)</h3></div></div><div style=\"margin-left: 0px;\" class=\"container-fields\"><span class=\"field-key\" title=\".age__reference\">age__reference: </span><span class=\"field-value\">birth</span></div><div style=\"margin-left: 0px;\" class=\"container-fields\"><span class=\"field-key\" title=\".sex\">sex: </span><span class=\"field-value\">F</span></div><div style=\"margin-left: 0px;\" class=\"container-fields\"><span class=\"field-key\" title=\".species\">species: </span><span class=\"field-value\">Rattus norvegicus</span></div><div style=\"margin-left: 0px;\" class=\"container-fields\"><span class=\"field-key\" title=\".subject_id\">subject_id: </span><span class=\"field-value\">617_Scn2a(8)</span></div><details><summary style=\"display: list-item; margin-left: 0px;\" class=\"container-fields field-key\" title=\".date_of_birth\"><b>date_of_birth</b></summary><span class=\"field-key\">2024-02-18 00:00:00+01:00</span></details></div>"
      ],
      "text/plain": [
       "subject pynwb.file.Subject at 0x1938318062464\n",
       "Fields:\n",
       "  age__reference: birth\n",
       "  date_of_birth: 2024-02-18 00:00:00+01:00\n",
       "  sex: F\n",
       "  species: Rattus norvegicus\n",
       "  subject_id: 617_Scn2a(8)"
      ]
     },
     "execution_count": 5,
     "metadata": {},
     "output_type": "execute_result"
    }
   ],
   "source": [
    "nwbfile.subject"
   ]
  },
  {
   "cell_type": "markdown",
   "id": "f4b61d49",
   "metadata": {},
   "source": [
    "# Access Devices Metadata <a name=\"access-devices\"></a>\n",
    "\n",
    "This section demonstrates how to access the [Device](https://pynwb.readthedocs.io/en/stable/pynwb.device.html#module-pynwb.device) field in an NWB file.\n",
    "\n",
    "The [Device](https://pynwb.readthedocs.io/en/stable/pynwb.device.html#module-pynwb.device) field can be accessed as `nwbfile.devices`."
   ]
  },
  {
   "cell_type": "code",
   "execution_count": 7,
   "id": "cd85667c",
   "metadata": {},
   "outputs": [
    {
     "data": {
      "text/html": [
       "\n",
       "        <style>\n",
       "            .container-fields {\n",
       "                font-family: \"Open Sans\", Arial, sans-serif;\n",
       "            }\n",
       "            .container-fields .field-value {\n",
       "                color: #00788E;\n",
       "            }\n",
       "            .container-fields details > summary {\n",
       "                cursor: pointer;\n",
       "                display: list-item;\n",
       "            }\n",
       "            .container-fields details > summary:hover {\n",
       "                color: #0A6EAA;\n",
       "            }\n",
       "        </style>\n",
       "        \n",
       "        <script>\n",
       "            function copyToClipboard(text) {\n",
       "                navigator.clipboard.writeText(text).then(function() {\n",
       "                    console.log('Copied to clipboard: ' + text);\n",
       "                }, function(err) {\n",
       "                    console.error('Could not copy text: ', err);\n",
       "                });\n",
       "            }\n",
       "\n",
       "            document.addEventListener('DOMContentLoaded', function() {\n",
       "                let fieldKeys = document.querySelectorAll('.container-fields .field-key');\n",
       "                fieldKeys.forEach(function(fieldKey) {\n",
       "                    fieldKey.addEventListener('click', function() {\n",
       "                        let accessCode = fieldKey.getAttribute('title').replace('Access code: ', '');\n",
       "                        copyToClipboard(accessCode);\n",
       "                    });\n",
       "                });\n",
       "            });\n",
       "        </script>\n",
       "        <div class='container-wrap'><div class='container-header'><div class='xr-obj-type'><h3>Arena_STM (Device)</h3></div></div><div style=\"margin-left: 0px;\" class=\"container-fields\"><span class=\"field-key\" title=\".description\">description: </span><span class=\"field-value\">Custom built arena (60x60 cm) with white laminated wood walls and white nesting bedding. This arean was used to test rat for short-term memory.</span></div><div style=\"margin-left: 0px;\" class=\"container-fields\"><span class=\"field-key\" title=\".manufacturer\">manufacturer: </span><span class=\"field-value\">Kanya UK</span></div></div>"
      ],
      "text/plain": [
       "Arena_STM pynwb.device.Device at 0x1938321483168\n",
       "Fields:\n",
       "  description: Custom built arena (60x60 cm) with white laminated wood walls and white nesting bedding. This arean was used to test rat for short-term memory.\n",
       "  manufacturer: Kanya UK"
      ]
     },
     "execution_count": 7,
     "metadata": {},
     "output_type": "execute_result"
    }
   ],
   "source": [
    "nwbfile.devices[\"Arena_STM\"]"
   ]
  },
  {
   "cell_type": "code",
   "execution_count": 8,
   "id": "c47a1c0e",
   "metadata": {},
   "outputs": [
    {
     "data": {
      "text/html": [
       "\n",
       "        <style>\n",
       "            .container-fields {\n",
       "                font-family: \"Open Sans\", Arial, sans-serif;\n",
       "            }\n",
       "            .container-fields .field-value {\n",
       "                color: #00788E;\n",
       "            }\n",
       "            .container-fields details > summary {\n",
       "                cursor: pointer;\n",
       "                display: list-item;\n",
       "            }\n",
       "            .container-fields details > summary:hover {\n",
       "                color: #0A6EAA;\n",
       "            }\n",
       "        </style>\n",
       "        \n",
       "        <script>\n",
       "            function copyToClipboard(text) {\n",
       "                navigator.clipboard.writeText(text).then(function() {\n",
       "                    console.log('Copied to clipboard: ' + text);\n",
       "                }, function(err) {\n",
       "                    console.error('Could not copy text: ', err);\n",
       "                });\n",
       "            }\n",
       "\n",
       "            document.addEventListener('DOMContentLoaded', function() {\n",
       "                let fieldKeys = document.querySelectorAll('.container-fields .field-key');\n",
       "                fieldKeys.forEach(function(fieldKey) {\n",
       "                    fieldKey.addEventListener('click', function() {\n",
       "                        let accessCode = fieldKey.getAttribute('title').replace('Access code: ', '');\n",
       "                        copyToClipboard(accessCode);\n",
       "                    });\n",
       "                });\n",
       "            });\n",
       "        </script>\n",
       "        <div class='container-wrap'><div class='container-header'><div class='xr-obj-type'><h3>BehavioralCamera (Device)</h3></div></div><div style=\"margin-left: 0px;\" class=\"container-fields\"><span class=\"field-key\" title=\".description\">description: </span><span class=\"field-value\">CCTV camera mounted on ceiling above arena for behavioral recording</span></div><div style=\"margin-left: 0px;\" class=\"container-fields\"><span class=\"field-key\" title=\".manufacturer\">manufacturer: </span><span class=\"field-value\">Example Manufacturer</span></div></div>"
      ],
      "text/plain": [
       "BehavioralCamera pynwb.device.Device at 0x1938321484608\n",
       "Fields:\n",
       "  description: CCTV camera mounted on ceiling above arena for behavioral recording\n",
       "  manufacturer: Example Manufacturer"
      ]
     },
     "execution_count": 8,
     "metadata": {},
     "output_type": "execute_result"
    }
   ],
   "source": [
    "nwbfile.devices[\"BehavioralCamera\"]"
   ]
  },
  {
   "cell_type": "markdown",
   "id": "a6536705-07a8-44cd-aaa8-8d9e3b7a2da0",
   "metadata": {},
   "source": [
    "# Access Behavioral Video <a name=\"access-behavior\"></a>\n",
    "\n",
    "The behavioral video is stored as an external `ImageSeries` in the NWB file."
   ]
  },
  {
   "cell_type": "code",
   "execution_count": null,
   "id": "daf0386d",
   "metadata": {},
   "outputs": [],
   "source": [
    "# List all behavioral video acquisitions\n",
    "for name in nwbfile.acquisition:\n",
    "    if \"BehavioralVideo\" in name:\n",
    "        print(name)"
   ]
  },
  {
   "cell_type": "code",
   "execution_count": 15,
   "id": "0d2e73af-010d-4e13-b20a-6775ba566630",
   "metadata": {},
   "outputs": [
    {
     "data": {
      "text/html": [
       "\n",
       "        <style>\n",
       "            .container-fields {\n",
       "                font-family: \"Open Sans\", Arial, sans-serif;\n",
       "            }\n",
       "            .container-fields .field-value {\n",
       "                color: #00788E;\n",
       "            }\n",
       "            .container-fields details > summary {\n",
       "                cursor: pointer;\n",
       "                display: list-item;\n",
       "            }\n",
       "            .container-fields details > summary:hover {\n",
       "                color: #0A6EAA;\n",
       "            }\n",
       "        </style>\n",
       "        \n",
       "        <script>\n",
       "            function copyToClipboard(text) {\n",
       "                navigator.clipboard.writeText(text).then(function() {\n",
       "                    console.log('Copied to clipboard: ' + text);\n",
       "                }, function(err) {\n",
       "                    console.error('Could not copy text: ', err);\n",
       "                });\n",
       "            }\n",
       "\n",
       "            document.addEventListener('DOMContentLoaded', function() {\n",
       "                let fieldKeys = document.querySelectorAll('.container-fields .field-key');\n",
       "                fieldKeys.forEach(function(fieldKey) {\n",
       "                    fieldKey.addEventListener('click', function() {\n",
       "                        let accessCode = fieldKey.getAttribute('title').replace('Access code: ', '');\n",
       "                        copyToClipboard(accessCode);\n",
       "                    });\n",
       "                });\n",
       "            });\n",
       "        </script>\n",
       "        <div class='container-wrap'><div class='container-header'><div class='xr-obj-type'><h3>BehavioralVideoTestTrial (ImageSeries)</h3></div></div><div style=\"margin-left: 0px;\" class=\"container-fields\"><span class=\"field-key\" title=\".starting_time\">starting_time: </span><span class=\"field-value\">0.0</span></div><div style=\"margin-left: 0px;\" class=\"container-fields\"><span class=\"field-key\" title=\".rate\">rate: </span><span class=\"field-value\">60.0</span></div><div style=\"margin-left: 0px;\" class=\"container-fields\"><span class=\"field-key\" title=\".resolution\">resolution: </span><span class=\"field-value\">-1.0</span></div><div style=\"margin-left: 0px;\" class=\"container-fields\"><span class=\"field-key\" title=\".comments\">comments: </span><span class=\"field-value\">no comments</span></div><div style=\"margin-left: 0px;\" class=\"container-fields\"><span class=\"field-key\" title=\".description\">description: </span><span class=\"field-value\">Video recording of the rat's behavior during the test trial. Recorded using a CCTV camera mounted on the ceiling above the arenas.\n",
       "</span></div><div style=\"margin-left: 0px;\" class=\"container-fields\"><span class=\"field-key\" title=\".conversion\">conversion: </span><span class=\"field-value\">1.0</span></div><div style=\"margin-left: 0px;\" class=\"container-fields\"><span class=\"field-key\" title=\".offset\">offset: </span><span class=\"field-value\">0.0</span></div><div style=\"margin-left: 0px;\" class=\"container-fields\"><span class=\"field-key\" title=\".unit\">unit: </span><span class=\"field-value\">Frames</span></div><details><summary style=\"display: list-item; margin-left: 0px;\" class=\"container-fields field-key\" title=\".data\"><b>data</b></summary><div style=\"margin-left: 20px;\" class=\"container-fields\">HDF5 dataset<br><table class=\"data-info\"><tbody><tr><th style=\"text-align: left\">Data type</th><td style=\"text-align: left\">uint8</td></tr><tr><th style=\"text-align: left\">Shape</th><td style=\"text-align: left\">(0, 0, 0)</td></tr><tr><th style=\"text-align: left\">Array size</th><td style=\"text-align: left\">0.00 bytes</td></tr><tr><th style=\"text-align: left\">Chunk shape</th><td style=\"text-align: left\">None</td></tr><tr><th style=\"text-align: left\">Compression</th><td style=\"text-align: left\">None</td></tr><tr><th style=\"text-align: left\">Compression opts</th><td style=\"text-align: left\">None</td></tr><tr><th style=\"text-align: left\">Compression ratio</th><td style=\"text-align: left\">undefined</td></tr></tbody></table><br>[]</div></details><div style=\"margin-left: 0px;\" class=\"container-fields\"><span class=\"field-key\" title=\".starting_time_unit\">starting_time_unit: </span><span class=\"field-value\">seconds</span></div><details><summary style=\"display: list-item; margin-left: 0px;\" class=\"container-fields field-key\" title=\".external_file\"><b>external_file</b></summary><div style=\"margin-left: 20px;\" class=\"container-fields\">HDF5 dataset<br><table class=\"data-info\"><tbody><tr><th style=\"text-align: left\">Data type</th><td style=\"text-align: left\">object</td></tr><tr><th style=\"text-align: left\">Shape</th><td style=\"text-align: left\">(1,)</td></tr><tr><th style=\"text-align: left\">Array size</th><td style=\"text-align: left\">8.00 bytes</td></tr><tr><th style=\"text-align: left\">Chunk shape</th><td style=\"text-align: left\">None</td></tr><tr><th style=\"text-align: left\">Compression</th><td style=\"text-align: left\">None</td></tr><tr><th style=\"text-align: left\">Compression opts</th><td style=\"text-align: left\">None</td></tr><tr><th style=\"text-align: left\">Compression ratio</th><td style=\"text-align: left\">0.5</td></tr></tbody></table><br>[b'D:\\\\Kind-CN-data-share\\\\behavioural_pipeline\\\\Object Location Memory\\\\Scn2a\\\\Scn2a(8)_OLM\\\\Test STM\\\\2024-05-02 12-11-42_Test_617.mkv']</div></details><details><summary style=\"display: list-item; margin-left: 0px;\" class=\"container-fields field-key\" title=\".starting_frame\"><b>starting_frame</b></summary><div style=\"margin-left: 20px;\" class=\"container-fields\">NumPy array<br><table class=\"data-info\"><tbody><tr><th style=\"text-align: left\">Data type</th><td style=\"text-align: left\">int32</td></tr><tr><th style=\"text-align: left\">Shape</th><td style=\"text-align: left\">(1,)</td></tr><tr><th style=\"text-align: left\">Array size</th><td style=\"text-align: left\">4.00 bytes</td></tr></tbody></table><br>[0]</div></details><div style=\"margin-left: 0px;\" class=\"container-fields\"><span class=\"field-key\" title=\".format\">format: </span><span class=\"field-value\">external</span></div><details><summary style=\"display: list-item; margin-left: 0px;\" class=\"container-fields field-key\" title=\".device\"><b>device</b></summary><div style=\"margin-left: 20px;\" class=\"container-fields\"><span class=\"field-key\" title=\".device.description\">description: </span><span class=\"field-value\">CCTV camera mounted on ceiling above arena for behavioral recording</span></div><div style=\"margin-left: 20px;\" class=\"container-fields\"><span class=\"field-key\" title=\".device.manufacturer\">manufacturer: </span><span class=\"field-value\">Example Manufacturer</span></div></details></div>"
      ],
      "text/plain": [
       "BehavioralVideoTestTrial pynwb.image.ImageSeries at 0x1938321484896\n",
       "Fields:\n",
       "  comments: no comments\n",
       "  conversion: 1.0\n",
       "  data: <HDF5 dataset \"data\": shape (0, 0, 0), type \"|u1\">\n",
       "  description: Video recording of the rat's behavior during the test trial. Recorded using a CCTV camera mounted on the ceiling above the arenas.\n",
       "\n",
       "  device: BehavioralCamera pynwb.device.Device at 0x1938321484608\n",
       "Fields:\n",
       "  description: CCTV camera mounted on ceiling above arena for behavioral recording\n",
       "  manufacturer: Example Manufacturer\n",
       "\n",
       "  external_file: <StrDataset for HDF5 dataset \"external_file\": shape (1,), type \"|O\">\n",
       "  format: external\n",
       "  offset: 0.0\n",
       "  rate: 60.0\n",
       "  resolution: -1.0\n",
       "  starting_frame: [0]\n",
       "  starting_time: 0.0\n",
       "  starting_time_unit: seconds\n",
       "  unit: Frames"
      ]
     },
     "execution_count": 15,
     "metadata": {},
     "output_type": "execute_result"
    }
   ],
   "source": [
    "test_trial_video = nwbfile.acquisition[\"BehavioralVideoTestTrial\"]\n",
    "test_trial_video"
   ]
  },
  {
   "cell_type": "markdown",
   "id": "e56d650e-9593-4468-96e3-40c3bf8f55ac",
   "metadata": {},
   "source": [
    "The video filepath:"
   ]
  },
  {
   "cell_type": "code",
   "execution_count": 16,
   "id": "a391d8b0-3004-4785-8a0a-c3faf78324d2",
   "metadata": {},
   "outputs": [
    {
     "data": {
      "text/plain": [
       "'D:\\\\Kind-CN-data-share\\\\behavioural_pipeline\\\\Object Location Memory\\\\Scn2a\\\\Scn2a(8)_OLM\\\\Test STM\\\\2024-05-02 12-11-42_Test_617.mkv'"
      ]
     },
     "execution_count": 16,
     "metadata": {},
     "output_type": "execute_result"
    }
   ],
   "source": [
    "test_trial_video.external_file[0]"
   ]
  },
  {
   "cell_type": "markdown",
   "id": "99560f6f-54e0-4fc4-84e6-aec9d64a70fd",
   "metadata": {},
   "source": [
    "The metadata of the device used to record the behavioral video:\n"
   ]
  },
  {
   "cell_type": "code",
   "execution_count": 17,
   "id": "ee6c8828-7458-4dec-9e6b-1414c2e8a602",
   "metadata": {},
   "outputs": [
    {
     "data": {
      "text/html": [
       "\n",
       "        <style>\n",
       "            .container-fields {\n",
       "                font-family: \"Open Sans\", Arial, sans-serif;\n",
       "            }\n",
       "            .container-fields .field-value {\n",
       "                color: #00788E;\n",
       "            }\n",
       "            .container-fields details > summary {\n",
       "                cursor: pointer;\n",
       "                display: list-item;\n",
       "            }\n",
       "            .container-fields details > summary:hover {\n",
       "                color: #0A6EAA;\n",
       "            }\n",
       "        </style>\n",
       "        \n",
       "        <script>\n",
       "            function copyToClipboard(text) {\n",
       "                navigator.clipboard.writeText(text).then(function() {\n",
       "                    console.log('Copied to clipboard: ' + text);\n",
       "                }, function(err) {\n",
       "                    console.error('Could not copy text: ', err);\n",
       "                });\n",
       "            }\n",
       "\n",
       "            document.addEventListener('DOMContentLoaded', function() {\n",
       "                let fieldKeys = document.querySelectorAll('.container-fields .field-key');\n",
       "                fieldKeys.forEach(function(fieldKey) {\n",
       "                    fieldKey.addEventListener('click', function() {\n",
       "                        let accessCode = fieldKey.getAttribute('title').replace('Access code: ', '');\n",
       "                        copyToClipboard(accessCode);\n",
       "                    });\n",
       "                });\n",
       "            });\n",
       "        </script>\n",
       "        <div class='container-wrap'><div class='container-header'><div class='xr-obj-type'><h3>BehavioralCamera (Device)</h3></div></div><div style=\"margin-left: 0px;\" class=\"container-fields\"><span class=\"field-key\" title=\".description\">description: </span><span class=\"field-value\">CCTV camera mounted on ceiling above arena for behavioral recording</span></div><div style=\"margin-left: 0px;\" class=\"container-fields\"><span class=\"field-key\" title=\".manufacturer\">manufacturer: </span><span class=\"field-value\">Example Manufacturer</span></div></div>"
      ],
      "text/plain": [
       "BehavioralCamera pynwb.device.Device at 0x1938321484608\n",
       "Fields:\n",
       "  description: CCTV camera mounted on ceiling above arena for behavioral recording\n",
       "  manufacturer: Example Manufacturer"
      ]
     },
     "execution_count": 17,
     "metadata": {},
     "output_type": "execute_result"
    }
   ],
   "source": [
    "test_trial_video.device"
   ]
  },
  {
   "cell_type": "markdown",
   "id": "a642e25b-e238-4134-ad88-0dc68b19fc98",
   "metadata": {},
   "source": [
    "# Access Annotated Behavioral Events <a name=\"access-events\"></a>\n",
    "\n",
    "The `nwbfile.processing[\"events]` contains annotated events. These are stored in the `AnnotatedEventsTable` type. The `AnnotatedEventsTable` type is a subtype of `DynamicTable`, where each row corresponds to a different event type. The table has a ragged (variable-length) 1D column of event times, such that each event type (row) is associated with an array of event times\n",
    "\n",
    "You can convert the table to a `pandas.DataFrame` for easier exploration:\n"
   ]
  },
  {
   "cell_type": "code",
   "execution_count": 20,
   "id": "090c67b0-f68b-4e24-ae8e-d9ad8911dec9",
   "metadata": {},
   "outputs": [],
   "source": [
    "sample_behavioral_events = nwbfile.processing[\"events\"][\"SampleTrialBehavioralEvents\"].to_dataframe()\n",
    "test_behavioral_events = nwbfile.processing[\"events\"][\"TestTrialBehavioralEvents\"].to_dataframe()"
   ]
  },
  {
   "cell_type": "code",
   "execution_count": 23,
   "id": "404ce15e",
   "metadata": {},
   "outputs": [
    {
     "data": {
      "text/html": [
       "<div>\n",
       "<style scoped>\n",
       "    .dataframe tbody tr th:only-of-type {\n",
       "        vertical-align: middle;\n",
       "    }\n",
       "\n",
       "    .dataframe tbody tr th {\n",
       "        vertical-align: top;\n",
       "    }\n",
       "\n",
       "    .dataframe thead th {\n",
       "        text-align: right;\n",
       "    }\n",
       "</style>\n",
       "<table border=\"1\" class=\"dataframe\">\n",
       "  <thead>\n",
       "    <tr style=\"text-align: right;\">\n",
       "      <th></th>\n",
       "      <th>duration</th>\n",
       "      <th>event_times</th>\n",
       "      <th>label</th>\n",
       "      <th>event_description</th>\n",
       "    </tr>\n",
       "    <tr>\n",
       "      <th>id</th>\n",
       "      <th></th>\n",
       "      <th></th>\n",
       "      <th></th>\n",
       "      <th></th>\n",
       "    </tr>\n",
       "  </thead>\n",
       "  <tbody>\n",
       "    <tr>\n",
       "      <th>0</th>\n",
       "      <td>[nan]</td>\n",
       "      <td>[6.9]</td>\n",
       "      <td>Start</td>\n",
       "      <td>when the rat is released</td>\n",
       "    </tr>\n",
       "    <tr>\n",
       "      <th>1</th>\n",
       "      <td>[10.065999999999999, 0.48300000000000054, 1.78...</td>\n",
       "      <td>[18.267, 30.567, 44.35, 46.6, 53.833, 62.25, 9...</td>\n",
       "      <td>bottom left</td>\n",
       "      <td></td>\n",
       "    </tr>\n",
       "    <tr>\n",
       "      <th>2</th>\n",
       "      <td>[]</td>\n",
       "      <td>[]</td>\n",
       "      <td>bottom mid</td>\n",
       "      <td></td>\n",
       "    </tr>\n",
       "    <tr>\n",
       "      <th>3</th>\n",
       "      <td>[]</td>\n",
       "      <td>[]</td>\n",
       "      <td>top mid</td>\n",
       "      <td></td>\n",
       "    </tr>\n",
       "    <tr>\n",
       "      <th>4</th>\n",
       "      <td>[1.9000000000000004, 1.0670000000000002, 4.515...</td>\n",
       "      <td>[8.883, 32.45, 34.417, 39.867, 57.833, 70.1, 7...</td>\n",
       "      <td>top right</td>\n",
       "      <td></td>\n",
       "    </tr>\n",
       "  </tbody>\n",
       "</table>\n",
       "</div>"
      ],
      "text/plain": [
       "                                             duration  \\\n",
       "id                                                      \n",
       "0                                               [nan]   \n",
       "1   [10.065999999999999, 0.48300000000000054, 1.78...   \n",
       "2                                                  []   \n",
       "3                                                  []   \n",
       "4   [1.9000000000000004, 1.0670000000000002, 4.515...   \n",
       "\n",
       "                                          event_times        label  \\\n",
       "id                                                                   \n",
       "0                                               [6.9]        Start   \n",
       "1   [18.267, 30.567, 44.35, 46.6, 53.833, 62.25, 9...  bottom left   \n",
       "2                                                  []   bottom mid   \n",
       "3                                                  []      top mid   \n",
       "4   [8.883, 32.45, 34.417, 39.867, 57.833, 70.1, 7...    top right   \n",
       "\n",
       "           event_description  \n",
       "id                            \n",
       "0   when the rat is released  \n",
       "1                             \n",
       "2                             \n",
       "3                             \n",
       "4                             "
      ]
     },
     "execution_count": 23,
     "metadata": {},
     "output_type": "execute_result"
    }
   ],
   "source": [
    "sample_behavioral_events"
   ]
  },
  {
   "cell_type": "code",
   "execution_count": 41,
   "id": "adf69d1a",
   "metadata": {},
   "outputs": [
    {
     "data": {
      "image/png": "[encoded data removed]",
      "text/plain": [
       "<Figure size 1200x200 with 1 Axes>"
      ]
     },
     "metadata": {},
     "output_type": "display_data"
    }
   ],
   "source": [
    "import numpy as np\n",
    "import matplotlib.pyplot as plt\n",
    "import matplotlib.patches as patches\n",
    "\n",
    "# Set up the figure\n",
    "plt.figure(figsize=(12, 2))\n",
    "\n",
    "# Define colors for different locations\n",
    "colors = {\n",
    "    'Start': 'black',\n",
    "    'bottom left': 'blue',\n",
    "    'bottom mid': 'green',\n",
    "    'top mid': 'purple',\n",
    "    'top right': 'red'\n",
    "}\n",
    "\n",
    "# Plot sample events\n",
    "alpha = 0.6  # Alpha for duration rectangles\n",
    "\n",
    "plt.title('Object Location Memory: Sample Trial Behavioral Events', fontsize=14)\n",
    "plt.xlabel('Time (seconds)', fontsize=12)\n",
    "plt.yticks([])  # Remove y-ticks since we're using the whole y-axis\n",
    "\n",
    "# Filter out the Start events\n",
    "object_events = sample_behavioral_events[sample_behavioral_events['label'] != 'Start']\n",
    "\n",
    "# Plot object interaction events\n",
    "for idx, row in object_events.iterrows():\n",
    "    label = row['label']\n",
    "    color = colors.get(label, 'gray')\n",
    "    \n",
    "    # Convert to numpy arrays if they are lists\n",
    "    event_times = np.array(row['event_times']) if len(row['event_times']) > 0 else np.array([])\n",
    "    durations = np.array(row['duration']) if len(row['duration']) > 0 else np.array([])\n",
    "    \n",
    "    if len(event_times) > 0 and len(durations) > 0 and len(durations) == len(event_times):\n",
    "        for i, (time, duration) in enumerate(zip(event_times, durations)):\n",
    "            if not np.isnan(duration):\n",
    "                # Plot duration as rectangle that spans the whole y-axis\n",
    "                rect = patches.Rectangle((time, 0), duration, 1.0, \n",
    "                                        alpha=alpha, color=color, edgecolor=None,\n",
    "                                        label=f'{label}' if i == 0 else \"\")\n",
    "                plt.gca().add_patch(rect)\n",
    "\n",
    "# Set x-axis to show the full range of events\n",
    "all_times = np.concatenate([np.array(row['event_times']) for _, row in object_events.iterrows() if len(row['event_times']) > 0])\n",
    "if len(all_times) > 0:\n",
    "    plt.xlim(max(0, min(all_times) - 10), max(all_times) + 10)\n",
    "    \n",
    "plt.ylim(0, 1)  # Set y-axis limits to match rectangle height\n",
    "plt.grid(True, alpha=0.3)\n",
    "plt.legend(loc='upper right')\n",
    "\n",
    "plt.tight_layout()\n",
    "plt.show()"
   ]
  },
  {
   "cell_type": "code",
   "execution_count": 24,
   "id": "416002c5",
   "metadata": {},
   "outputs": [
    {
     "data": {
      "text/html": [
       "<div>\n",
       "<style scoped>\n",
       "    .dataframe tbody tr th:only-of-type {\n",
       "        vertical-align: middle;\n",
       "    }\n",
       "\n",
       "    .dataframe tbody tr th {\n",
       "        vertical-align: top;\n",
       "    }\n",
       "\n",
       "    .dataframe thead th {\n",
       "        text-align: right;\n",
       "    }\n",
       "</style>\n",
       "<table border=\"1\" class=\"dataframe\">\n",
       "  <thead>\n",
       "    <tr style=\"text-align: right;\">\n",
       "      <th></th>\n",
       "      <th>duration</th>\n",
       "      <th>event_times</th>\n",
       "      <th>label</th>\n",
       "      <th>event_description</th>\n",
       "    </tr>\n",
       "    <tr>\n",
       "      <th>id</th>\n",
       "      <th></th>\n",
       "      <th></th>\n",
       "      <th></th>\n",
       "      <th></th>\n",
       "    </tr>\n",
       "  </thead>\n",
       "  <tbody>\n",
       "    <tr>\n",
       "      <th>0</th>\n",
       "      <td>[nan]</td>\n",
       "      <td>[11.183]</td>\n",
       "      <td>Start</td>\n",
       "      <td>when the rat is released</td>\n",
       "    </tr>\n",
       "    <tr>\n",
       "      <th>1</th>\n",
       "      <td>[0.40000000000000213, 0.6999999999999993, 3.08...</td>\n",
       "      <td>[18.133, 27.433, 69.967, 91.167, 119.517, 160....</td>\n",
       "      <td>bottom left</td>\n",
       "      <td></td>\n",
       "    </tr>\n",
       "    <tr>\n",
       "      <th>2</th>\n",
       "      <td>[]</td>\n",
       "      <td>[]</td>\n",
       "      <td>bottom mid</td>\n",
       "      <td></td>\n",
       "    </tr>\n",
       "    <tr>\n",
       "      <th>3</th>\n",
       "      <td>[0.4499999999999993, 1.4669999999999987, 4.667...</td>\n",
       "      <td>[16.133, 24.533, 49.783, 57.5, 62.3, 75.3, 111...</td>\n",
       "      <td>top mid</td>\n",
       "      <td></td>\n",
       "    </tr>\n",
       "    <tr>\n",
       "      <th>4</th>\n",
       "      <td>[]</td>\n",
       "      <td>[]</td>\n",
       "      <td>top right</td>\n",
       "      <td></td>\n",
       "    </tr>\n",
       "  </tbody>\n",
       "</table>\n",
       "</div>"
      ],
      "text/plain": [
       "                                             duration  \\\n",
       "id                                                      \n",
       "0                                               [nan]   \n",
       "1   [0.40000000000000213, 0.6999999999999993, 3.08...   \n",
       "2                                                  []   \n",
       "3   [0.4499999999999993, 1.4669999999999987, 4.667...   \n",
       "4                                                  []   \n",
       "\n",
       "                                          event_times        label  \\\n",
       "id                                                                   \n",
       "0                                            [11.183]        Start   \n",
       "1   [18.133, 27.433, 69.967, 91.167, 119.517, 160....  bottom left   \n",
       "2                                                  []   bottom mid   \n",
       "3   [16.133, 24.533, 49.783, 57.5, 62.3, 75.3, 111...      top mid   \n",
       "4                                                  []    top right   \n",
       "\n",
       "           event_description  \n",
       "id                            \n",
       "0   when the rat is released  \n",
       "1                             \n",
       "2                             \n",
       "3                             \n",
       "4                             "
      ]
     },
     "execution_count": 24,
     "metadata": {},
     "output_type": "execute_result"
    }
   ],
   "source": [
    "test_behavioral_events"
   ]
  },
  {
   "cell_type": "code",
   "execution_count": 42,
   "id": "c0a5debc",
   "metadata": {},
   "outputs": [
    {
     "data": {
      "image/png": "[encoded data removed]",
      "text/plain": [
       "<Figure size 1200x200 with 1 Axes>"
      ]
     },
     "metadata": {},
     "output_type": "display_data"
    }
   ],
   "source": [
    "import numpy as np\n",
    "import matplotlib.pyplot as plt\n",
    "import matplotlib.patches as patches\n",
    "\n",
    "# Set up the figure\n",
    "plt.figure(figsize=(12, 2))\n",
    "\n",
    "# Define colors for different locations\n",
    "colors = {\"Start\": \"black\", \"bottom left\": \"blue\", \"bottom mid\": \"green\", \"top mid\": \"purple\", \"top right\": \"red\"}\n",
    "\n",
    "# Plot sample events\n",
    "alpha = 0.6  # Alpha for duration rectangles\n",
    "\n",
    "plt.title(\"Object Location Memory: Test Trial Behavioral Events\", fontsize=14)\n",
    "plt.xlabel(\"Time (seconds)\", fontsize=12)\n",
    "plt.yticks([])  # Remove y-ticks since we're using the whole y-axis\n",
    "\n",
    "# Filter out the Start events\n",
    "object_events = test_behavioral_events[test_behavioral_events[\"label\"] != \"Start\"]\n",
    "\n",
    "# Plot object interaction events\n",
    "for idx, row in object_events.iterrows():\n",
    "    label = row[\"label\"]\n",
    "    color = colors.get(label, \"gray\")\n",
    "\n",
    "    # Convert to numpy arrays if they are lists\n",
    "    event_times = np.array(row[\"event_times\"]) if len(row[\"event_times\"]) > 0 else np.array([])\n",
    "    durations = np.array(row[\"duration\"]) if len(row[\"duration\"]) > 0 else np.array([])\n",
    "\n",
    "    if len(event_times) > 0 and len(durations) > 0 and len(durations) == len(event_times):\n",
    "        for i, (time, duration) in enumerate(zip(event_times, durations)):\n",
    "            if not np.isnan(duration):\n",
    "                # Plot duration as rectangle that spans the whole y-axis\n",
    "                rect = patches.Rectangle(\n",
    "                    (time, 0),\n",
    "                    duration,\n",
    "                    1.0,\n",
    "                    alpha=alpha,\n",
    "                    color=color,\n",
    "                    edgecolor=None,\n",
    "                    label=f\"{label}\" if i == 0 else \"\",\n",
    "                )\n",
    "                plt.gca().add_patch(rect)\n",
    "\n",
    "# Set x-axis to show the full range of events\n",
    "all_times = np.concatenate(\n",
    "    [np.array(row[\"event_times\"]) for _, row in object_events.iterrows() if len(row[\"event_times\"]) > 0]\n",
    ")\n",
    "if len(all_times) > 0:\n",
    "    plt.xlim(max(0, min(all_times) - 10), max(all_times) + 10)\n",
    "\n",
    "plt.ylim(0, 1)  # Set y-axis limits to match rectangle height\n",
    "plt.grid(True, alpha=0.3)\n",
    "plt.legend(loc=\"upper right\")\n",
    "\n",
    "plt.tight_layout()\n",
    "plt.show()"
   ]
  }
 ],
 "metadata": {
  "kernelspec": {
   "display_name": "kind_lab_to_nwb_env",
   "language": "python",
   "name": "python3"
  },
  "language_info": {
   "codemirror_mode": {
    "name": "ipython",
    "version": 3
   },
   "file_extension": ".py",
   "mimetype": "text/x-python",
   "name": "python",
   "nbconvert_exporter": "python",
   "pygments_lexer": "ipython3",
   "version": "3.12.8"
  }
 },
 "nbformat": 4,
 "nbformat_minor": 5
}
