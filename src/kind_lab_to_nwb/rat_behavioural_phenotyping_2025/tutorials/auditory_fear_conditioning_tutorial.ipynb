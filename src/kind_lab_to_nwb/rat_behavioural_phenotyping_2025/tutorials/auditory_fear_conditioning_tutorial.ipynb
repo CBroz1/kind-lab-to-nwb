{
 "cells": [
  {
   "cell_type": "markdown",
   "id": "968aef84-bc0f-4c6c-8350-bd003217be62",
   "metadata": {},
   "source": [
    "# Auditory Fear Conditioning NWB Tutorial\n",
    "\n",
    "This tutorial demonstrates how to load and explore an NWB file containing only behavioral data from the auditory fear conditioning experiment, part of the [Rat Behavioural Phenotyping Pipeline Methodologies](https://sidb.org.uk/facilities/rat-behavioural-phenotyping-pipeline/).\n",
    "\n",
    "Contents:\n",
    "\n",
    "- [Reading NWBFile locally](#read-nwb)\n",
    "- [Access Subject Metadata](#access-subject)\n",
    "- [Access Devices Metadata](#access-devices)\n",
    "- [Access Behavioral Videos](#access-behavior)\n",
    "- [Access Trials](#access-trials)\n",
    "\n"
   ]
  },
  {
   "cell_type": "markdown",
   "id": "b37ec519-2b98-457a-95c9-5d3c4d5f686f",
   "metadata": {},
   "source": [
    "# Reading an NWB file locally<a id=\"read-nwb\"></a>\n",
    "\n",
    "\n",
    "This section demonstrates how to read an NWB file using `pynwb`.\n",
    "\n",
    "Based on the [NWB File Basics](https://pynwb.readthedocs.io/en/stable/tutorials/general/plot_file.html#sphx-glr-tutorials-general-plot-file-py) tutorial from [PyNWB](https://pynwb.readthedocs.io/en/stable/#).\n",
    "\n",
    "An [NWBFile](https://pynwb.readthedocs.io/en/stable/pynwb.file.html#pynwb.file.NWBFile) represents a single session of an experiment. Each NWBFile must have a `session description`, `identifier`, and `session start time`.\n",
    "\n",
    "Reading is carried out using the [NWBHDF5IO](https://pynwb.readthedocs.io/en/stable/pynwb.html#pynwb.NWBHDF5IO) class. To read the NWB file use the read mode (\"r\") to retrieve an NWBFile object."
   ]
  },
  {
   "cell_type": "code",
   "execution_count": null,
   "id": "65e512d772fad3eb",
   "metadata": {},
   "outputs": [],
   "source": [
    "from pynwb import NWBHDF5IO\n",
    "from pathlib import Path\n",
    "\n",
    "# Define the path to the NWB file\n",
    "directory = Path(\"/Users/weian/data/Auditory Fear Conditioning/nwbfiles\")\n",
    "session_id = \"AFC_1_HabD1\"\n",
    "subject_id = \"408_Arid1b(3)\"\n",
    "nwbfile_path = directory / f\"sub-{subject_id}_ses-{session_id}.nwb\"\n",
    "io = NWBHDF5IO(path=nwbfile_path, load_namespaces=True)\n",
    "nwbfile = io.read()"
   ]
  },
  {
   "cell_type": "code",
   "execution_count": null,
   "id": "ea96c9cdf882692b",
   "metadata": {},
   "outputs": [
    {
     "data": {
      "text/plain": [
       "'This experiment is part of the Rat Behavioural Phenotyping Pipeline Methodologies https://sidb.org.uk/facilities/rat-behavioural-phenotyping-pipeline/.\\nAs an initial effort to characterize the rat lines, these models are being behaviorally phenotyped at SIDB.\\nRat models are phenotyped according to a rigorous pipeline that assesses behaviours relevant to autism with intellectual disability, such as social and motor skills, and learning and sensory processing.\\nDifferent cohorts of rats are run through different subsets of tasks to overcome potential order effects on behaviours and to limit the number of tasks each animal is put through.\\nThis experiment investigated auditory fear conditioning in different rat models\\n(Arid1b: https://rgd.mcw.edu/rgdweb/report/strain/main.html?id=14394518,\\nGrin2b: https://rgd.mcw.edu/rgdweb/report/strain/main.html?id=14394515,\\nScn2a: https://rgd.mcw.edu/rgdweb/report/strain/main.html?id=25394530).\\nThe experimenter was blind to genotype throughout the experiment and watched the trials on a screen from outside the testing room.\\nThe task utilized two Coulbourn Fear conditioning chambers providing distinct contexts (A and B).\\nRats underwent habituation in context A (2 days), followed by fear conditioning in context B\\nwhere tones were paired with foot shocks. Fear recall was then tested in context A over 2 days.\\nFreezing behavior was recorded and analyzed using FreezeFrame 5 software.\\n'"
      ]
     },
     "execution_count": 42,
     "metadata": {},
     "output_type": "execute_result"
    }
   ],
   "source": [
    "print(nwbfile.experiment_description)"
   ]
  },
  {
   "cell_type": "code",
   "execution_count": null,
   "id": "47811cb2d7e22d23",
   "metadata": {},
   "outputs": [
    {
     "data": {
      "text/plain": [
       "'Experimental Day 1. Habituation to context A.\\n20 min exposure to context A, no tones or shocks.\\n'"
      ]
     },
     "execution_count": 5,
     "metadata": {},
     "output_type": "execute_result"
    }
   ],
   "source": [
    "print(nwbfile.session_description)"
   ]
  },
  {
   "cell_type": "markdown",
   "id": "85cbfb3e-4654-425d-9d3a-b604180f04f5",
   "metadata": {},
   "source": [
    "Importantly, the `session start time` is the reference time for all timestamps in the file. For instance, an event with a timestamp of 0 in the file means the event occurred exactly at the session start time.\n",
    "\n",
    "The `session_start_time` is extracted from the Freeze_Log.xls table."
   ]
  },
  {
   "cell_type": "code",
   "execution_count": null,
   "id": "initial_id",
   "metadata": {},
   "outputs": [
    {
     "data": {
      "text/plain": [
       "datetime.datetime(2022, 12, 12, 11, 12, tzinfo=tzutc())"
      ]
     },
     "execution_count": 6,
     "metadata": {},
     "output_type": "execute_result"
    }
   ],
   "source": [
    "print(nwbfile.session_start_time)"
   ]
  },
  {
   "cell_type": "markdown",
   "id": "da7f5b0b",
   "metadata": {},
   "source": [
    "# Access Subject Metadata <a name=\"access-subject\"></a>\n",
    "\n",
    "This section demonstrates how to access the [Subject](https://pynwb.readthedocs.io/en/stable/pynwb.file.html#pynwb.file.Subject) field in an NWB file.\n",
    "\n",
    "The [Subject](https://pynwb.readthedocs.io/en/stable/pynwb.file.html#pynwb.file.Subject) field can be accessed as `nwbfile.subject`.\n"
   ]
  },
  {
   "cell_type": "code",
   "execution_count": 19,
   "id": "0794a61a-76c8-43ef-836d-1835ca7733e2",
   "metadata": {},
   "outputs": [
    {
     "data": {
      "text/html": [
       "\n",
       "        <style>\n",
       "            .container-fields {\n",
       "                font-family: \"Open Sans\", Arial, sans-serif;\n",
       "            }\n",
       "            .container-fields .field-value {\n",
       "                color: #00788E;\n",
       "            }\n",
       "            .container-fields details > summary {\n",
       "                cursor: pointer;\n",
       "                display: list-item;\n",
       "            }\n",
       "            .container-fields details > summary:hover {\n",
       "                color: #0A6EAA;\n",
       "            }\n",
       "        </style>\n",
       "        \n",
       "        <script>\n",
       "            function copyToClipboard(text) {\n",
       "                navigator.clipboard.writeText(text).then(function() {\n",
       "                    console.log('Copied to clipboard: ' + text);\n",
       "                }, function(err) {\n",
       "                    console.error('Could not copy text: ', err);\n",
       "                });\n",
       "            }\n",
       "\n",
       "            document.addEventListener('DOMContentLoaded', function() {\n",
       "                let fieldKeys = document.querySelectorAll('.container-fields .field-key');\n",
       "                fieldKeys.forEach(function(fieldKey) {\n",
       "                    fieldKey.addEventListener('click', function() {\n",
       "                        let accessCode = fieldKey.getAttribute('title').replace('Access code: ', '');\n",
       "                        copyToClipboard(accessCode);\n",
       "                    });\n",
       "                });\n",
       "            });\n",
       "        </script>\n",
       "        <div class='container-wrap'><div class='container-header'><div class='xr-obj-type'><h3>subject (Subject)</h3></div></div><div style=\"margin-left: 0px;\" class=\"container-fields\"><span class=\"field-key\" title=\".age__reference\">age__reference: </span><span class=\"field-value\">birth</span></div><div style=\"margin-left: 0px;\" class=\"container-fields\"><span class=\"field-key\" title=\".sex\">sex: </span><span class=\"field-value\">M</span></div><div style=\"margin-left: 0px;\" class=\"container-fields\"><span class=\"field-key\" title=\".species\">species: </span><span class=\"field-value\">Rattus norvegicus</span></div><div style=\"margin-left: 0px;\" class=\"container-fields\"><span class=\"field-key\" title=\".subject_id\">subject_id: </span><span class=\"field-value\">408_Arid1b(3)</span></div><details><summary style=\"display: list-item; margin-left: 0px;\" class=\"container-fields field-key\" title=\".date_of_birth\"><b>date_of_birth</b></summary><span class=\"field-key\">2022-09-02 00:00:00+02:00</span></details></div>"
      ],
      "text/plain": [
       "subject pynwb.file.Subject at 0x4779711760\n",
       "Fields:\n",
       "  age__reference: birth\n",
       "  date_of_birth: 2022-09-02 00:00:00+02:00\n",
       "  sex: M\n",
       "  species: Rattus norvegicus\n",
       "  subject_id: 408_Arid1b(3)"
      ]
     },
     "execution_count": 19,
     "metadata": {},
     "output_type": "execute_result"
    }
   ],
   "source": [
    "nwbfile.subject"
   ]
  },
  {
   "cell_type": "markdown",
   "id": "fb3d968b",
   "metadata": {},
   "source": [
    "# Access Devices Metadata <a name=\"access-devices\"></a>\n",
    "\n",
    "This section demonstrates how to access the [Device](https://pynwb.readthedocs.io/en/stable/pynwb.device.html#module-pynwb.device) field in an NWB file.\n",
    "\n",
    "The [Device](https://pynwb.readthedocs.io/en/stable/pynwb.device.html#module-pynwb.device) field can be accessed as `nwbfile.devices`."
   ]
  },
  {
   "cell_type": "code",
   "execution_count": null,
   "id": "dc0e431b",
   "metadata": {},
   "outputs": [],
   "source": [
    "nwbfile.devices"
   ]
  },
  {
   "cell_type": "markdown",
   "id": "a6536705-07a8-44cd-aaa8-8d9e3b7a2da0",
   "metadata": {},
   "source": [
    "# Access Behavioral Video <a name=\"access-behavior\"></a>\n",
    "\n",
    "The behavioral video is stored as an external `ImageSeries` in the NWB file."
   ]
  },
  {
   "cell_type": "code",
   "execution_count": 40,
   "id": "0d2e73af-010d-4e13-b20a-6775ba566630",
   "metadata": {},
   "outputs": [
    {
     "data": {
      "text/html": [
       "\n",
       "        <style>\n",
       "            .container-fields {\n",
       "                font-family: \"Open Sans\", Arial, sans-serif;\n",
       "            }\n",
       "            .container-fields .field-value {\n",
       "                color: #00788E;\n",
       "            }\n",
       "            .container-fields details > summary {\n",
       "                cursor: pointer;\n",
       "                display: list-item;\n",
       "            }\n",
       "            .container-fields details > summary:hover {\n",
       "                color: #0A6EAA;\n",
       "            }\n",
       "        </style>\n",
       "        \n",
       "        <script>\n",
       "            function copyToClipboard(text) {\n",
       "                navigator.clipboard.writeText(text).then(function() {\n",
       "                    console.log('Copied to clipboard: ' + text);\n",
       "                }, function(err) {\n",
       "                    console.error('Could not copy text: ', err);\n",
       "                });\n",
       "            }\n",
       "\n",
       "            document.addEventListener('DOMContentLoaded', function() {\n",
       "                let fieldKeys = document.querySelectorAll('.container-fields .field-key');\n",
       "                fieldKeys.forEach(function(fieldKey) {\n",
       "                    fieldKey.addEventListener('click', function() {\n",
       "                        let accessCode = fieldKey.getAttribute('title').replace('Access code: ', '');\n",
       "                        copyToClipboard(accessCode);\n",
       "                    });\n",
       "                });\n",
       "            });\n",
       "        </script>\n",
       "        <div class='container-wrap'><div class='container-header'><div class='xr-obj-type'><h3>BehavioralVideo (ImageSeries)</h3></div></div><div style=\"margin-left: 0px;\" class=\"container-fields\"><span class=\"field-key\" title=\".starting_time\">starting_time: </span><span class=\"field-value\">0.0</span></div><div style=\"margin-left: 0px;\" class=\"container-fields\"><span class=\"field-key\" title=\".rate\">rate: </span><span class=\"field-value\">15.0</span></div><div style=\"margin-left: 0px;\" class=\"container-fields\"><span class=\"field-key\" title=\".resolution\">resolution: </span><span class=\"field-value\">-1.0</span></div><div style=\"margin-left: 0px;\" class=\"container-fields\"><span class=\"field-key\" title=\".comments\">comments: </span><span class=\"field-value\">no comments</span></div><div style=\"margin-left: 0px;\" class=\"container-fields\"><span class=\"field-key\" title=\".description\">description: </span><span class=\"field-value\">Video recording of the rat's behavior. Recorded using a CCTV camera mounted on the ceiling above the chambers.\n",
       "</span></div><div style=\"margin-left: 0px;\" class=\"container-fields\"><span class=\"field-key\" title=\".conversion\">conversion: </span><span class=\"field-value\">1.0</span></div><div style=\"margin-left: 0px;\" class=\"container-fields\"><span class=\"field-key\" title=\".offset\">offset: </span><span class=\"field-value\">0.0</span></div><div style=\"margin-left: 0px;\" class=\"container-fields\"><span class=\"field-key\" title=\".unit\">unit: </span><span class=\"field-value\">Frames</span></div><details><summary style=\"display: list-item; margin-left: 0px;\" class=\"container-fields field-key\" title=\".data\"><b>data</b></summary><div style=\"margin-left: 20px;\" class=\"container-fields\">HDF5 dataset<br><table class=\"data-info\"><tbody><tr><th style=\"text-align: left\">Data type</th><td style=\"text-align: left\">uint8</td></tr><tr><th style=\"text-align: left\">Shape</th><td style=\"text-align: left\">(0, 0, 0)</td></tr><tr><th style=\"text-align: left\">Array size</th><td style=\"text-align: left\">0.00 bytes</td></tr><tr><th style=\"text-align: left\">Chunk shape</th><td style=\"text-align: left\">None</td></tr><tr><th style=\"text-align: left\">Compression</th><td style=\"text-align: left\">None</td></tr><tr><th style=\"text-align: left\">Compression opts</th><td style=\"text-align: left\">None</td></tr><tr><th style=\"text-align: left\">Compression ratio</th><td style=\"text-align: left\">undefined</td></tr></tbody></table><br>[]</div></details><div style=\"margin-left: 0px;\" class=\"container-fields\"><span class=\"field-key\" title=\".starting_time_unit\">starting_time_unit: </span><span class=\"field-value\">seconds</span></div><details><summary style=\"display: list-item; margin-left: 0px;\" class=\"container-fields field-key\" title=\".external_file\"><b>external_file</b></summary><div style=\"margin-left: 20px;\" class=\"container-fields\">HDF5 dataset<br><table class=\"data-info\"><tbody><tr><th style=\"text-align: left\">Data type</th><td style=\"text-align: left\">object</td></tr><tr><th style=\"text-align: left\">Shape</th><td style=\"text-align: left\">(1,)</td></tr><tr><th style=\"text-align: left\">Array size</th><td style=\"text-align: left\">8.00 bytes</td></tr><tr><th style=\"text-align: left\">Chunk shape</th><td style=\"text-align: left\">None</td></tr><tr><th style=\"text-align: left\">Compression</th><td style=\"text-align: left\">None</td></tr><tr><th style=\"text-align: left\">Compression opts</th><td style=\"text-align: left\">None</td></tr><tr><th style=\"text-align: left\">Compression ratio</th><td style=\"text-align: left\">0.5</td></tr></tbody></table><br>[b'/Users/weian/data/Auditory Fear Conditioning/Arid1b/Arid1b(3)_AFC/1_HabD1/Box3_Arid1b(3)_HabD1_408.avi']</div></details><details><summary style=\"display: list-item; margin-left: 0px;\" class=\"container-fields field-key\" title=\".starting_frame\"><b>starting_frame</b></summary><div style=\"margin-left: 20px;\" class=\"container-fields\">NumPy array<br><table class=\"data-info\"><tbody><tr><th style=\"text-align: left\">Data type</th><td style=\"text-align: left\">int64</td></tr><tr><th style=\"text-align: left\">Shape</th><td style=\"text-align: left\">(1,)</td></tr><tr><th style=\"text-align: left\">Array size</th><td style=\"text-align: left\">8.00 bytes</td></tr></tbody></table><br>[0]</div></details><div style=\"margin-left: 0px;\" class=\"container-fields\"><span class=\"field-key\" title=\".format\">format: </span><span class=\"field-value\">external</span></div><details><summary style=\"display: list-item; margin-left: 0px;\" class=\"container-fields field-key\" title=\".device\"><b>device</b></summary><div style=\"margin-left: 20px;\" class=\"container-fields\"><span class=\"field-key\" title=\".device.description\">description: </span><span class=\"field-value\">CCTV camera mounted on ceiling above chambers for behavioral recording</span></div><div style=\"margin-left: 20px;\" class=\"container-fields\"><span class=\"field-key\" title=\".device.manufacturer\">manufacturer: </span><span class=\"field-value\">Example Manufacturer</span></div></details></div>"
      ],
      "text/plain": [
       "BehavioralVideo pynwb.image.ImageSeries at 0x4779708240\n",
       "Fields:\n",
       "  comments: no comments\n",
       "  conversion: 1.0\n",
       "  data: <HDF5 dataset \"data\": shape (0, 0, 0), type \"|u1\">\n",
       "  description: Video recording of the rat's behavior. Recorded using a CCTV camera mounted on the ceiling above the chambers.\n",
       "\n",
       "  device: BehavioralCamera pynwb.device.Device at 0x4790442976\n",
       "Fields:\n",
       "  description: CCTV camera mounted on ceiling above chambers for behavioral recording\n",
       "  manufacturer: Example Manufacturer\n",
       "\n",
       "  external_file: <StrDataset for HDF5 dataset \"external_file\": shape (1,), type \"|O\">\n",
       "  format: external\n",
       "  offset: 0.0\n",
       "  rate: 15.0\n",
       "  resolution: -1.0\n",
       "  starting_frame: [0]\n",
       "  starting_time: 0.0\n",
       "  starting_time_unit: seconds\n",
       "  unit: Frames"
      ]
     },
     "execution_count": 40,
     "metadata": {},
     "output_type": "execute_result"
    }
   ],
   "source": [
    "video = nwbfile.acquisition[\"BehavioralVideo\"]\n",
    "video"
   ]
  },
  {
   "cell_type": "markdown",
   "id": "e56d650e-9593-4468-96e3-40c3bf8f55ac",
   "metadata": {},
   "source": [
    "The video filepath:"
   ]
  },
  {
   "cell_type": "code",
   "execution_count": 25,
   "id": "a391d8b0-3004-4785-8a0a-c3faf78324d2",
   "metadata": {},
   "outputs": [
    {
     "data": {
      "text/plain": [
       "'/Users/weian/data/Auditory Fear Conditioning/Arid1b/Arid1b(3)_AFC/1_HabD1/Box3_Arid1b(3)_HabD1_408.avi'"
      ]
     },
     "execution_count": 25,
     "metadata": {},
     "output_type": "execute_result"
    }
   ],
   "source": [
    "video.external_file[0]"
   ]
  },
  {
   "cell_type": "markdown",
   "id": "99560f6f-54e0-4fc4-84e6-aec9d64a70fd",
   "metadata": {},
   "source": [
    "The metadata of the device used to record the behavioral video:\n"
   ]
  },
  {
   "cell_type": "code",
   "execution_count": 33,
   "id": "ee6c8828-7458-4dec-9e6b-1414c2e8a602",
   "metadata": {},
   "outputs": [
    {
     "data": {
      "text/html": [
       "\n",
       "        <style>\n",
       "            .container-fields {\n",
       "                font-family: \"Open Sans\", Arial, sans-serif;\n",
       "            }\n",
       "            .container-fields .field-value {\n",
       "                color: #00788E;\n",
       "            }\n",
       "            .container-fields details > summary {\n",
       "                cursor: pointer;\n",
       "                display: list-item;\n",
       "            }\n",
       "            .container-fields details > summary:hover {\n",
       "                color: #0A6EAA;\n",
       "            }\n",
       "        </style>\n",
       "        \n",
       "        <script>\n",
       "            function copyToClipboard(text) {\n",
       "                navigator.clipboard.writeText(text).then(function() {\n",
       "                    console.log('Copied to clipboard: ' + text);\n",
       "                }, function(err) {\n",
       "                    console.error('Could not copy text: ', err);\n",
       "                });\n",
       "            }\n",
       "\n",
       "            document.addEventListener('DOMContentLoaded', function() {\n",
       "                let fieldKeys = document.querySelectorAll('.container-fields .field-key');\n",
       "                fieldKeys.forEach(function(fieldKey) {\n",
       "                    fieldKey.addEventListener('click', function() {\n",
       "                        let accessCode = fieldKey.getAttribute('title').replace('Access code: ', '');\n",
       "                        copyToClipboard(accessCode);\n",
       "                    });\n",
       "                });\n",
       "            });\n",
       "        </script>\n",
       "        <div class='container-wrap'><div class='container-header'><div class='xr-obj-type'><h3>BehavioralCamera (Device)</h3></div></div><div style=\"margin-left: 0px;\" class=\"container-fields\"><span class=\"field-key\" title=\".description\">description: </span><span class=\"field-value\">CCTV camera mounted on ceiling above chambers for behavioral recording</span></div><div style=\"margin-left: 0px;\" class=\"container-fields\"><span class=\"field-key\" title=\".manufacturer\">manufacturer: </span><span class=\"field-value\">Example Manufacturer</span></div></div>"
      ],
      "text/plain": [
       "BehavioralCamera pynwb.device.Device at 0x4790442976\n",
       "Fields:\n",
       "  description: CCTV camera mounted on ceiling above chambers for behavioral recording\n",
       "  manufacturer: Example Manufacturer"
      ]
     },
     "execution_count": 33,
     "metadata": {},
     "output_type": "execute_result"
    }
   ],
   "source": [
    "video.device"
   ]
  },
  {
   "cell_type": "markdown",
   "id": "a642e25b-e238-4134-ad88-0dc68b19fc98",
   "metadata": {},
   "source": [
    "# Access Trials <a name=\"access-trials\"></a>\n",
    "\n",
    "The `nwbfile.trials` contains periods of freezing behavior, as detected and scored by the FreezeFrame 5 software.  \n",
    "Each row in the table corresponds to a single freezing event, with columns for the start and stop times (relative to session start), and additional columns such as duration or manual scoring.\n",
    "\n",
    "You can convert the trials table to a `pandas.DataFrame` for easier exploration:\n"
   ]
  },
  {
   "cell_type": "code",
   "execution_count": 43,
   "id": "090c67b0-f68b-4e24-ae8e-d9ad8911dec9",
   "metadata": {},
   "outputs": [
    {
     "data": {
      "text/html": [
       "<div>\n",
       "<style scoped>\n",
       "    .dataframe tbody tr th:only-of-type {\n",
       "        vertical-align: middle;\n",
       "    }\n",
       "\n",
       "    .dataframe tbody tr th {\n",
       "        vertical-align: top;\n",
       "    }\n",
       "\n",
       "    .dataframe thead th {\n",
       "        text-align: right;\n",
       "    }\n",
       "</style>\n",
       "<table border=\"1\" class=\"dataframe\">\n",
       "  <thead>\n",
       "    <tr style=\"text-align: right;\">\n",
       "      <th></th>\n",
       "      <th>start_time</th>\n",
       "      <th>stop_time</th>\n",
       "      <th>percentage_of_time_spent_freezing</th>\n",
       "      <th>threshold</th>\n",
       "      <th>bout_duration</th>\n",
       "      <th>protocol</th>\n",
       "    </tr>\n",
       "    <tr>\n",
       "      <th>id</th>\n",
       "      <th></th>\n",
       "      <th></th>\n",
       "      <th></th>\n",
       "      <th></th>\n",
       "      <th></th>\n",
       "      <th></th>\n",
       "    </tr>\n",
       "  </thead>\n",
       "  <tbody>\n",
       "    <tr>\n",
       "      <th>0</th>\n",
       "      <td>0.0</td>\n",
       "      <td>120.0</td>\n",
       "      <td>0.00</td>\n",
       "      <td>360.00</td>\n",
       "      <td>3.0</td>\n",
       "      <td>tone recall/extinction  5Khz tone</td>\n",
       "    </tr>\n",
       "    <tr>\n",
       "      <th>1</th>\n",
       "      <td>120.0</td>\n",
       "      <td>150.0</td>\n",
       "      <td>34.67</td>\n",
       "      <td>360.00</td>\n",
       "      <td>3.0</td>\n",
       "      <td>tone recall/extinction  5Khz tone</td>\n",
       "    </tr>\n",
       "    <tr>\n",
       "      <th>2</th>\n",
       "      <td>150.0</td>\n",
       "      <td>180.0</td>\n",
       "      <td>37.05</td>\n",
       "      <td>360.00</td>\n",
       "      <td>3.0</td>\n",
       "      <td>tone recall/extinction  5Khz tone</td>\n",
       "    </tr>\n",
       "    <tr>\n",
       "      <th>3</th>\n",
       "      <td>180.0</td>\n",
       "      <td>210.0</td>\n",
       "      <td>63.56</td>\n",
       "      <td>360.00</td>\n",
       "      <td>3.0</td>\n",
       "      <td>tone recall/extinction  5Khz tone</td>\n",
       "    </tr>\n",
       "    <tr>\n",
       "      <th>4</th>\n",
       "      <td>210.0</td>\n",
       "      <td>240.0</td>\n",
       "      <td>64.71</td>\n",
       "      <td>360.00</td>\n",
       "      <td>3.0</td>\n",
       "      <td>tone recall/extinction  5Khz tone</td>\n",
       "    </tr>\n",
       "    <tr>\n",
       "      <th>5</th>\n",
       "      <td>240.0</td>\n",
       "      <td>270.0</td>\n",
       "      <td>50.67</td>\n",
       "      <td>360.00</td>\n",
       "      <td>3.0</td>\n",
       "      <td>tone recall/extinction  5Khz tone</td>\n",
       "    </tr>\n",
       "    <tr>\n",
       "      <th>6</th>\n",
       "      <td>270.0</td>\n",
       "      <td>300.0</td>\n",
       "      <td>59.82</td>\n",
       "      <td>360.00</td>\n",
       "      <td>3.0</td>\n",
       "      <td>tone recall/extinction  5Khz tone</td>\n",
       "    </tr>\n",
       "    <tr>\n",
       "      <th>7</th>\n",
       "      <td>300.0</td>\n",
       "      <td>330.0</td>\n",
       "      <td>75.89</td>\n",
       "      <td>360.00</td>\n",
       "      <td>3.0</td>\n",
       "      <td>tone recall/extinction  5Khz tone</td>\n",
       "    </tr>\n",
       "    <tr>\n",
       "      <th>8</th>\n",
       "      <td>330.0</td>\n",
       "      <td>360.0</td>\n",
       "      <td>42.86</td>\n",
       "      <td>360.00</td>\n",
       "      <td>3.0</td>\n",
       "      <td>tone recall/extinction  5Khz tone</td>\n",
       "    </tr>\n",
       "    <tr>\n",
       "      <th>9</th>\n",
       "      <td>360.0</td>\n",
       "      <td>390.0</td>\n",
       "      <td>58.67</td>\n",
       "      <td>360.00</td>\n",
       "      <td>3.0</td>\n",
       "      <td>tone recall/extinction  5Khz tone</td>\n",
       "    </tr>\n",
       "    <tr>\n",
       "      <th>10</th>\n",
       "      <td>390.0</td>\n",
       "      <td>420.0</td>\n",
       "      <td>10.22</td>\n",
       "      <td>360.00</td>\n",
       "      <td>3.0</td>\n",
       "      <td>tone recall/extinction  5Khz tone</td>\n",
       "    </tr>\n",
       "    <tr>\n",
       "      <th>11</th>\n",
       "      <td>420.0</td>\n",
       "      <td>450.0</td>\n",
       "      <td>15.11</td>\n",
       "      <td>360.00</td>\n",
       "      <td>3.0</td>\n",
       "      <td>tone recall/extinction  5Khz tone</td>\n",
       "    </tr>\n",
       "    <tr>\n",
       "      <th>12</th>\n",
       "      <td>450.0</td>\n",
       "      <td>480.0</td>\n",
       "      <td>0.00</td>\n",
       "      <td>360.00</td>\n",
       "      <td>3.0</td>\n",
       "      <td>tone recall/extinction  5Khz tone</td>\n",
       "    </tr>\n",
       "    <tr>\n",
       "      <th>13</th>\n",
       "      <td>480.0</td>\n",
       "      <td>510.0</td>\n",
       "      <td>41.78</td>\n",
       "      <td>360.00</td>\n",
       "      <td>3.0</td>\n",
       "      <td>tone recall/extinction  5Khz tone</td>\n",
       "    </tr>\n",
       "    <tr>\n",
       "      <th>14</th>\n",
       "      <td>510.0</td>\n",
       "      <td>540.0</td>\n",
       "      <td>0.00</td>\n",
       "      <td>360.00</td>\n",
       "      <td>3.0</td>\n",
       "      <td>tone recall/extinction  5Khz tone</td>\n",
       "    </tr>\n",
       "    <tr>\n",
       "      <th>15</th>\n",
       "      <td>540.0</td>\n",
       "      <td>570.0</td>\n",
       "      <td>0.00</td>\n",
       "      <td>360.00</td>\n",
       "      <td>3.0</td>\n",
       "      <td>tone recall/extinction  5Khz tone</td>\n",
       "    </tr>\n",
       "    <tr>\n",
       "      <th>16</th>\n",
       "      <td>570.0</td>\n",
       "      <td>600.0</td>\n",
       "      <td>19.91</td>\n",
       "      <td>360.00</td>\n",
       "      <td>3.0</td>\n",
       "      <td>tone recall/extinction  5Khz tone</td>\n",
       "    </tr>\n",
       "    <tr>\n",
       "      <th>17</th>\n",
       "      <td>600.0</td>\n",
       "      <td>630.0</td>\n",
       "      <td>0.89</td>\n",
       "      <td>360.00</td>\n",
       "      <td>3.0</td>\n",
       "      <td>tone recall/extinction  5Khz tone</td>\n",
       "    </tr>\n",
       "    <tr>\n",
       "      <th>18</th>\n",
       "      <td>630.0</td>\n",
       "      <td>660.0</td>\n",
       "      <td>8.97</td>\n",
       "      <td>360.00</td>\n",
       "      <td>3.0</td>\n",
       "      <td>tone recall/extinction  5Khz tone</td>\n",
       "    </tr>\n",
       "    <tr>\n",
       "      <th>19</th>\n",
       "      <td>660.0</td>\n",
       "      <td>690.0</td>\n",
       "      <td>14.16</td>\n",
       "      <td>360.00</td>\n",
       "      <td>3.0</td>\n",
       "      <td>tone recall/extinction  5Khz tone</td>\n",
       "    </tr>\n",
       "  </tbody>\n",
       "</table>\n",
       "</div>"
      ],
      "text/plain": [
       "    start_time  stop_time  percentage_of_time_spent_freezing threshold  \\\n",
       "id                                                                       \n",
       "0          0.0      120.0                               0.00    360.00   \n",
       "1        120.0      150.0                              34.67    360.00   \n",
       "2        150.0      180.0                              37.05    360.00   \n",
       "3        180.0      210.0                              63.56    360.00   \n",
       "4        210.0      240.0                              64.71    360.00   \n",
       "5        240.0      270.0                              50.67    360.00   \n",
       "6        270.0      300.0                              59.82    360.00   \n",
       "7        300.0      330.0                              75.89    360.00   \n",
       "8        330.0      360.0                              42.86    360.00   \n",
       "9        360.0      390.0                              58.67    360.00   \n",
       "10       390.0      420.0                              10.22    360.00   \n",
       "11       420.0      450.0                              15.11    360.00   \n",
       "12       450.0      480.0                               0.00    360.00   \n",
       "13       480.0      510.0                              41.78    360.00   \n",
       "14       510.0      540.0                               0.00    360.00   \n",
       "15       540.0      570.0                               0.00    360.00   \n",
       "16       570.0      600.0                              19.91    360.00   \n",
       "17       600.0      630.0                               0.89    360.00   \n",
       "18       630.0      660.0                               8.97    360.00   \n",
       "19       660.0      690.0                              14.16    360.00   \n",
       "\n",
       "    bout_duration                           protocol  \n",
       "id                                                    \n",
       "0             3.0  tone recall/extinction  5Khz tone  \n",
       "1             3.0  tone recall/extinction  5Khz tone  \n",
       "2             3.0  tone recall/extinction  5Khz tone  \n",
       "3             3.0  tone recall/extinction  5Khz tone  \n",
       "4             3.0  tone recall/extinction  5Khz tone  \n",
       "5             3.0  tone recall/extinction  5Khz tone  \n",
       "6             3.0  tone recall/extinction  5Khz tone  \n",
       "7             3.0  tone recall/extinction  5Khz tone  \n",
       "8             3.0  tone recall/extinction  5Khz tone  \n",
       "9             3.0  tone recall/extinction  5Khz tone  \n",
       "10            3.0  tone recall/extinction  5Khz tone  \n",
       "11            3.0  tone recall/extinction  5Khz tone  \n",
       "12            3.0  tone recall/extinction  5Khz tone  \n",
       "13            3.0  tone recall/extinction  5Khz tone  \n",
       "14            3.0  tone recall/extinction  5Khz tone  \n",
       "15            3.0  tone recall/extinction  5Khz tone  \n",
       "16            3.0  tone recall/extinction  5Khz tone  \n",
       "17            3.0  tone recall/extinction  5Khz tone  \n",
       "18            3.0  tone recall/extinction  5Khz tone  \n",
       "19            3.0  tone recall/extinction  5Khz tone  "
      ]
     },
     "execution_count": 43,
     "metadata": {},
     "output_type": "execute_result"
    }
   ],
   "source": [
    "trials = nwbfile.trials.to_dataframe()\n",
    "trials.head(20)"
   ]
  },
  {
   "cell_type": "code",
   "execution_count": null,
   "id": "04ffa5c6",
   "metadata": {},
   "outputs": [],
   "source": [
    "import numpy as np\n",
    "\n",
    "import matplotlib.pyplot as plt\n",
    "\n",
    "# Create a figure for freezing events visualization\n",
    "fig, ax = plt.subplots(figsize=(12, 6))\n",
    "\n",
    "# Plot each freezing period as a horizontal bar\n",
    "for i, row in trials.iterrows():\n",
    "    start_time = row['start_time']\n",
    "    stop_time = row['stop_time']\n",
    "    duration = row['duration']\n",
    "    \n",
    "    # Plot the freezing period as a horizontal bar\n",
    "    ax.barh(i, duration, left=start_time, height=0.6, color='skyblue', alpha=0.7)\n",
    "\n",
    "# Add vertical lines for baseline period, CS presentation, etc. if available in the data\n",
    "# (This would depend on the experimental design information)\n",
    "\n",
    "# Set labels and title\n",
    "ax.set_xlabel('Time (seconds) relative to session start')\n",
    "ax.set_ylabel('Freezing Event Index')\n",
    "ax.set_title(f'Freezing Events for Subject {subject_id} - Session {session_id}')\n",
    "\n",
    "# Add a grid for better readability\n",
    "ax.grid(True, linestyle='--', alpha=0.7)\n",
    "\n",
    "# Add summary statistics as text annotation\n",
    "total_freeze_time = trials['duration'].sum()\n",
    "total_session_time = trials['stop_time'].max() if len(trials) > 0 else 0\n",
    "percent_freezing = (total_freeze_time / total_session_time * 100) if total_session_time > 0 else 0\n",
    "\n",
    "ax.text(0.02, 0.02, \n",
    "        f\"Total freezing: {total_freeze_time:.2f}s ({percent_freezing:.2f}%)\\n\"\n",
    "        f\"Number of events: {len(trials)}\", \n",
    "        transform=ax.transAxes, \n",
    "        bbox=dict(facecolor='white', alpha=0.8))\n",
    "\n",
    "plt.tight_layout()\n",
    "plt.show()"
   ]
  }
 ],
 "metadata": {
  "kernelspec": {
   "display_name": "kind_lab_to_nwb_env",
   "language": "python",
   "name": "python3"
  },
  "language_info": {
   "codemirror_mode": {
    "name": "ipython",
    "version": 3
   },
   "file_extension": ".py",
   "mimetype": "text/x-python",
   "name": "python",
   "nbconvert_exporter": "python",
   "pygments_lexer": "ipython3",
   "version": "3.12.8"
  }
 },
 "nbformat": 4,
 "nbformat_minor": 5
}
